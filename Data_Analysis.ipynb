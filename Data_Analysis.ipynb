{
 "cells": [
  {
   "cell_type": "markdown",
   "metadata": {},
   "source": [
    "# Đồ án: Ứng dụng phân tích dữ liệu thông minh"
   ]
  },
  {
   "cell_type": "markdown",
   "metadata": {},
   "source": [
    "Thành viên nhóm: <tên> bao gồm:\n",
    "- MSSV: <Họ tên>"
   ]
  },
  {
   "cell_type": "markdown",
   "metadata": {},
   "source": [
    "# A. Giới thiệu đề tài"
   ]
  },
  {
   "cell_type": "markdown",
   "metadata": {},
   "source": [
    "## 1. Ngữ cảnh"
   ]
  },
  {
   "cell_type": "markdown",
   "metadata": {},
   "source": [
    "Hiện trạng: \n",
    "\n",
    "Chọn đề tài để:\n"
   ]
  },
  {
   "cell_type": "markdown",
   "metadata": {},
   "source": [
    "## 2. Thu thập và mô tả dữ liệu"
   ]
  },
  {
   "cell_type": "markdown",
   "metadata": {},
   "source": [
    "Dữ liệu được thu thập từ trang ...., bằng API. \n",
    "\n",
    "Dữ liệu Spotify các nước đông nam á(...), có các trường tiêu biểu \n",
    "- \n",
    "- \n",
    "- \n"
   ]
  },
  {
   "cell_type": "markdown",
   "metadata": {},
   "source": [
    "# B. Bài phân tích"
   ]
  },
  {
   "cell_type": "markdown",
   "metadata": {},
   "source": [
    "## 0. Import thư viện"
   ]
  },
  {
   "cell_type": "code",
   "execution_count": 1,
   "metadata": {},
   "outputs": [],
   "source": [
    "import pandas as pd\n",
    "import numpy as np\n",
    "import matplotlib.pyplot as plt\n",
    "import seaborn as sns\n"
   ]
  },
  {
   "cell_type": "code",
   "execution_count": 2,
   "metadata": {},
   "outputs": [],
   "source": [
    "#df0 =pd.read_csv('data/dataset.csv')\n",
    "#df0.head()"
   ]
  },
  {
   "cell_type": "code",
   "execution_count": 3,
   "metadata": {},
   "outputs": [],
   "source": [
    "column_list = []"
   ]
  },
  {
   "cell_type": "code",
   "execution_count": 4,
   "metadata": {},
   "outputs": [
    {
     "data": {
      "text/html": [
       "<div>\n",
       "<style scoped>\n",
       "    .dataframe tbody tr th:only-of-type {\n",
       "        vertical-align: middle;\n",
       "    }\n",
       "\n",
       "    .dataframe tbody tr th {\n",
       "        vertical-align: top;\n",
       "    }\n",
       "\n",
       "    .dataframe thead th {\n",
       "        text-align: right;\n",
       "    }\n",
       "</style>\n",
       "<table border=\"1\" class=\"dataframe\">\n",
       "  <thead>\n",
       "    <tr style=\"text-align: right;\">\n",
       "      <th></th>\n",
       "      <th>artists_id</th>\n",
       "      <th>album_id</th>\n",
       "      <th>track_id</th>\n",
       "      <th>track_uri</th>\n",
       "      <th>track_name</th>\n",
       "      <th>track_release_date</th>\n",
       "      <th>track_date_added</th>\n",
       "      <th>track_duration_ms</th>\n",
       "      <th>track_popularity</th>\n",
       "      <th>track_position</th>\n",
       "      <th>is_explicit</th>\n",
       "      <th>country</th>\n",
       "      <th>timestamp</th>\n",
       "      <th>stream_count</th>\n",
       "    </tr>\n",
       "  </thead>\n",
       "  <tbody>\n",
       "    <tr>\n",
       "      <th>0</th>\n",
       "      <td>3eVa5w3URK5duf6eyVDbu9, 0du5cEVh5yTK9QJze8zA0C</td>\n",
       "      <td>2IYQwwgxgOIn7t3iF6ufFD</td>\n",
       "      <td>5vNRhkKd0yEAg8suGBpjeY</td>\n",
       "      <td>spotify:track:5vNRhkKd0yEAg8suGBpjeY</td>\n",
       "      <td>APT.</td>\n",
       "      <td>2024-10-18</td>\n",
       "      <td>2024-10-31T12:37:43Z</td>\n",
       "      <td>169917</td>\n",
       "      <td>96</td>\n",
       "      <td>1</td>\n",
       "      <td>False</td>\n",
       "      <td>Indonesia</td>\n",
       "      <td>2024-11-01</td>\n",
       "      <td>182002510</td>\n",
       "    </tr>\n",
       "    <tr>\n",
       "      <th>1</th>\n",
       "      <td>1HY2Jd0NmPuamShAr6KMms, 0du5cEVh5yTK9QJze8zA0C</td>\n",
       "      <td>10FLjwfpbxLmW8c25Xyc2N</td>\n",
       "      <td>2plbrEY59IikOBgBGLjaoe</td>\n",
       "      <td>spotify:track:2plbrEY59IikOBgBGLjaoe</td>\n",
       "      <td>Die With A Smile</td>\n",
       "      <td>2024-08-16</td>\n",
       "      <td>2024-10-31T12:37:43Z</td>\n",
       "      <td>251667</td>\n",
       "      <td>100</td>\n",
       "      <td>2</td>\n",
       "      <td>False</td>\n",
       "      <td>Indonesia</td>\n",
       "      <td>2024-11-01</td>\n",
       "      <td>793128354</td>\n",
       "    </tr>\n",
       "    <tr>\n",
       "      <th>2</th>\n",
       "      <td>47z98pKd71yIbgXwe9LPVC</td>\n",
       "      <td>5K8xqV7MCe3UIfedVAlZSe</td>\n",
       "      <td>7zOVh5fGpEwSbZd0g9z80B</td>\n",
       "      <td>spotify:track:7zOVh5fGpEwSbZd0g9z80B</td>\n",
       "      <td>Satu Bulan</td>\n",
       "      <td>2023-06-22</td>\n",
       "      <td>2024-10-31T12:37:43Z</td>\n",
       "      <td>200476</td>\n",
       "      <td>84</td>\n",
       "      <td>3</td>\n",
       "      <td>False</td>\n",
       "      <td>Indonesia</td>\n",
       "      <td>2024-11-01</td>\n",
       "      <td>206778990</td>\n",
       "    </tr>\n",
       "    <tr>\n",
       "      <th>3</th>\n",
       "      <td>5Plk4JdCzMxhAHSRTEsxJp, 1lg1jqQMMJQQFFMnkxn0zV</td>\n",
       "      <td>59ptvvKVVgt5Oo8R6uYDda</td>\n",
       "      <td>7BgFlmOxrL7M1jVGoxqy37</td>\n",
       "      <td>spotify:track:7BgFlmOxrL7M1jVGoxqy37</td>\n",
       "      <td>Masing Masing</td>\n",
       "      <td>2023-11-03</td>\n",
       "      <td>2024-10-31T12:37:43Z</td>\n",
       "      <td>234589</td>\n",
       "      <td>77</td>\n",
       "      <td>4</td>\n",
       "      <td>False</td>\n",
       "      <td>Indonesia</td>\n",
       "      <td>2024-11-01</td>\n",
       "      <td>43426743</td>\n",
       "    </tr>\n",
       "    <tr>\n",
       "      <th>4</th>\n",
       "      <td>0f6TyESD8E1mD2oLJ4TGv1</td>\n",
       "      <td>6E4sl58YgjMqfUBNGOfAUa</td>\n",
       "      <td>0PtJbtW50jcvvswNPn3QGd</td>\n",
       "      <td>spotify:track:0PtJbtW50jcvvswNPn3QGd</td>\n",
       "      <td>Serana</td>\n",
       "      <td>2022-09-06</td>\n",
       "      <td>2024-10-31T12:37:43Z</td>\n",
       "      <td>250000</td>\n",
       "      <td>77</td>\n",
       "      <td>5</td>\n",
       "      <td>False</td>\n",
       "      <td>Indonesia</td>\n",
       "      <td>2024-11-01</td>\n",
       "      <td>321290834</td>\n",
       "    </tr>\n",
       "  </tbody>\n",
       "</table>\n",
       "</div>"
      ],
      "text/plain": [
       "                                       artists_id                album_id  \\\n",
       "0  3eVa5w3URK5duf6eyVDbu9, 0du5cEVh5yTK9QJze8zA0C  2IYQwwgxgOIn7t3iF6ufFD   \n",
       "1  1HY2Jd0NmPuamShAr6KMms, 0du5cEVh5yTK9QJze8zA0C  10FLjwfpbxLmW8c25Xyc2N   \n",
       "2                          47z98pKd71yIbgXwe9LPVC  5K8xqV7MCe3UIfedVAlZSe   \n",
       "3  5Plk4JdCzMxhAHSRTEsxJp, 1lg1jqQMMJQQFFMnkxn0zV  59ptvvKVVgt5Oo8R6uYDda   \n",
       "4                          0f6TyESD8E1mD2oLJ4TGv1  6E4sl58YgjMqfUBNGOfAUa   \n",
       "\n",
       "                 track_id                             track_uri  \\\n",
       "0  5vNRhkKd0yEAg8suGBpjeY  spotify:track:5vNRhkKd0yEAg8suGBpjeY   \n",
       "1  2plbrEY59IikOBgBGLjaoe  spotify:track:2plbrEY59IikOBgBGLjaoe   \n",
       "2  7zOVh5fGpEwSbZd0g9z80B  spotify:track:7zOVh5fGpEwSbZd0g9z80B   \n",
       "3  7BgFlmOxrL7M1jVGoxqy37  spotify:track:7BgFlmOxrL7M1jVGoxqy37   \n",
       "4  0PtJbtW50jcvvswNPn3QGd  spotify:track:0PtJbtW50jcvvswNPn3QGd   \n",
       "\n",
       "         track_name track_release_date      track_date_added  \\\n",
       "0              APT.         2024-10-18  2024-10-31T12:37:43Z   \n",
       "1  Die With A Smile         2024-08-16  2024-10-31T12:37:43Z   \n",
       "2        Satu Bulan         2023-06-22  2024-10-31T12:37:43Z   \n",
       "3     Masing Masing         2023-11-03  2024-10-31T12:37:43Z   \n",
       "4            Serana         2022-09-06  2024-10-31T12:37:43Z   \n",
       "\n",
       "   track_duration_ms  track_popularity  track_position  is_explicit  \\\n",
       "0             169917                96               1        False   \n",
       "1             251667               100               2        False   \n",
       "2             200476                84               3        False   \n",
       "3             234589                77               4        False   \n",
       "4             250000                77               5        False   \n",
       "\n",
       "     country   timestamp  stream_count  \n",
       "0  Indonesia  2024-11-01     182002510  \n",
       "1  Indonesia  2024-11-01     793128354  \n",
       "2  Indonesia  2024-11-01     206778990  \n",
       "3  Indonesia  2024-11-01      43426743  \n",
       "4  Indonesia  2024-11-01     321290834  "
      ]
     },
     "execution_count": 4,
     "metadata": {},
     "output_type": "execute_result"
    }
   ],
   "source": [
    "df =pd.read_csv('data/stream_tracks.csv')\n",
    "df.head()"
   ]
  },
  {
   "cell_type": "code",
   "execution_count": 5,
   "metadata": {},
   "outputs": [
    {
     "data": {
      "text/plain": [
       "Index(['artists_id', 'album_id', 'track_id', 'track_uri', 'track_name',\n",
       "       'track_release_date', 'track_date_added', 'track_duration_ms',\n",
       "       'track_popularity', 'track_position', 'is_explicit', 'country',\n",
       "       'timestamp', 'stream_count'],\n",
       "      dtype='object')"
      ]
     },
     "execution_count": 5,
     "metadata": {},
     "output_type": "execute_result"
    }
   ],
   "source": [
    "df.columns"
   ]
  },
  {
   "cell_type": "code",
   "execution_count": 6,
   "metadata": {},
   "outputs": [
    {
     "data": {
      "text/html": [
       "<div>\n",
       "<style scoped>\n",
       "    .dataframe tbody tr th:only-of-type {\n",
       "        vertical-align: middle;\n",
       "    }\n",
       "\n",
       "    .dataframe tbody tr th {\n",
       "        vertical-align: top;\n",
       "    }\n",
       "\n",
       "    .dataframe thead th {\n",
       "        text-align: right;\n",
       "    }\n",
       "</style>\n",
       "<table border=\"1\" class=\"dataframe\">\n",
       "  <thead>\n",
       "    <tr style=\"text-align: right;\">\n",
       "      <th></th>\n",
       "      <th>artist_id</th>\n",
       "      <th>artist_uri</th>\n",
       "      <th>artist_name</th>\n",
       "      <th>artist_genres</th>\n",
       "      <th>artist_popularity</th>\n",
       "      <th>artist_follower</th>\n",
       "      <th>artist_image_url</th>\n",
       "      <th>timestamp</th>\n",
       "    </tr>\n",
       "  </thead>\n",
       "  <tbody>\n",
       "    <tr>\n",
       "      <th>0</th>\n",
       "      <td>3eVa5w3URK5duf6eyVDbu9</td>\n",
       "      <td>spotify:artist:3eVa5w3URK5duf6eyVDbu9</td>\n",
       "      <td>ROSÉ</td>\n",
       "      <td>['k-pop']</td>\n",
       "      <td>83</td>\n",
       "      <td>7651191</td>\n",
       "      <td>https://i.scdn.co/image/ab6761610000e5eb727a1f...</td>\n",
       "      <td>2024-11-01</td>\n",
       "    </tr>\n",
       "    <tr>\n",
       "      <th>1</th>\n",
       "      <td>0du5cEVh5yTK9QJze8zA0C</td>\n",
       "      <td>spotify:artist:0du5cEVh5yTK9QJze8zA0C</td>\n",
       "      <td>Bruno Mars</td>\n",
       "      <td>['dance pop', 'pop']</td>\n",
       "      <td>95</td>\n",
       "      <td>61284274</td>\n",
       "      <td>https://i.scdn.co/image/ab6761610000e5ebc36dd9...</td>\n",
       "      <td>2024-11-01</td>\n",
       "    </tr>\n",
       "    <tr>\n",
       "      <th>2</th>\n",
       "      <td>1HY2Jd0NmPuamShAr6KMms</td>\n",
       "      <td>spotify:artist:1HY2Jd0NmPuamShAr6KMms</td>\n",
       "      <td>Lady Gaga</td>\n",
       "      <td>['art pop', 'dance pop', 'pop']</td>\n",
       "      <td>92</td>\n",
       "      <td>32437331</td>\n",
       "      <td>https://i.scdn.co/image/ab6761610000e5eb4b09cd...</td>\n",
       "      <td>2024-11-01</td>\n",
       "    </tr>\n",
       "    <tr>\n",
       "      <th>3</th>\n",
       "      <td>47z98pKd71yIbgXwe9LPVC</td>\n",
       "      <td>spotify:artist:47z98pKd71yIbgXwe9LPVC</td>\n",
       "      <td>Bernadya</td>\n",
       "      <td>[]</td>\n",
       "      <td>83</td>\n",
       "      <td>2067579</td>\n",
       "      <td>https://i.scdn.co/image/ab6761610000e5eb6d1dbc...</td>\n",
       "      <td>2024-11-01</td>\n",
       "    </tr>\n",
       "    <tr>\n",
       "      <th>4</th>\n",
       "      <td>5Plk4JdCzMxhAHSRTEsxJp</td>\n",
       "      <td>spotify:artist:5Plk4JdCzMxhAHSRTEsxJp</td>\n",
       "      <td>Ernie Zakri</td>\n",
       "      <td>['malaysian pop']</td>\n",
       "      <td>64</td>\n",
       "      <td>177522</td>\n",
       "      <td>https://i.scdn.co/image/ab6761610000e5ebd4e158...</td>\n",
       "      <td>2024-11-01</td>\n",
       "    </tr>\n",
       "  </tbody>\n",
       "</table>\n",
       "</div>"
      ],
      "text/plain": [
       "                artist_id                             artist_uri  artist_name  \\\n",
       "0  3eVa5w3URK5duf6eyVDbu9  spotify:artist:3eVa5w3URK5duf6eyVDbu9         ROSÉ   \n",
       "1  0du5cEVh5yTK9QJze8zA0C  spotify:artist:0du5cEVh5yTK9QJze8zA0C   Bruno Mars   \n",
       "2  1HY2Jd0NmPuamShAr6KMms  spotify:artist:1HY2Jd0NmPuamShAr6KMms    Lady Gaga   \n",
       "3  47z98pKd71yIbgXwe9LPVC  spotify:artist:47z98pKd71yIbgXwe9LPVC     Bernadya   \n",
       "4  5Plk4JdCzMxhAHSRTEsxJp  spotify:artist:5Plk4JdCzMxhAHSRTEsxJp  Ernie Zakri   \n",
       "\n",
       "                     artist_genres  artist_popularity  artist_follower  \\\n",
       "0                        ['k-pop']                 83          7651191   \n",
       "1             ['dance pop', 'pop']                 95         61284274   \n",
       "2  ['art pop', 'dance pop', 'pop']                 92         32437331   \n",
       "3                               []                 83          2067579   \n",
       "4                ['malaysian pop']                 64           177522   \n",
       "\n",
       "                                    artist_image_url   timestamp  \n",
       "0  https://i.scdn.co/image/ab6761610000e5eb727a1f...  2024-11-01  \n",
       "1  https://i.scdn.co/image/ab6761610000e5ebc36dd9...  2024-11-01  \n",
       "2  https://i.scdn.co/image/ab6761610000e5eb4b09cd...  2024-11-01  \n",
       "3  https://i.scdn.co/image/ab6761610000e5eb6d1dbc...  2024-11-01  \n",
       "4  https://i.scdn.co/image/ab6761610000e5ebd4e158...  2024-11-01  "
      ]
     },
     "execution_count": 6,
     "metadata": {},
     "output_type": "execute_result"
    }
   ],
   "source": [
    "df1 = pd.read_csv('data/artists.csv')\n",
    "df1.head()"
   ]
  },
  {
   "cell_type": "code",
   "execution_count": 7,
   "metadata": {},
   "outputs": [
    {
     "data": {
      "text/html": [
       "<div>\n",
       "<style scoped>\n",
       "    .dataframe tbody tr th:only-of-type {\n",
       "        vertical-align: middle;\n",
       "    }\n",
       "\n",
       "    .dataframe tbody tr th {\n",
       "        vertical-align: top;\n",
       "    }\n",
       "\n",
       "    .dataframe thead th {\n",
       "        text-align: right;\n",
       "    }\n",
       "</style>\n",
       "<table border=\"1\" class=\"dataframe\">\n",
       "  <thead>\n",
       "    <tr style=\"text-align: right;\">\n",
       "      <th></th>\n",
       "      <th>artists_id</th>\n",
       "      <th>album_id</th>\n",
       "      <th>track_id</th>\n",
       "      <th>track_uri</th>\n",
       "      <th>track_name</th>\n",
       "      <th>track_release_date</th>\n",
       "      <th>track_date_added</th>\n",
       "      <th>track_duration_ms</th>\n",
       "      <th>track_popularity</th>\n",
       "      <th>track_position</th>\n",
       "      <th>...</th>\n",
       "      <th>loudness</th>\n",
       "      <th>mode</th>\n",
       "      <th>speechiness</th>\n",
       "      <th>acousticness</th>\n",
       "      <th>instrumentalness</th>\n",
       "      <th>liveness</th>\n",
       "      <th>valence</th>\n",
       "      <th>tempo</th>\n",
       "      <th>duration_ms</th>\n",
       "      <th>time_signature</th>\n",
       "    </tr>\n",
       "  </thead>\n",
       "  <tbody>\n",
       "    <tr>\n",
       "      <th>0</th>\n",
       "      <td>3eVa5w3URK5duf6eyVDbu9, 0du5cEVh5yTK9QJze8zA0C</td>\n",
       "      <td>2IYQwwgxgOIn7t3iF6ufFD</td>\n",
       "      <td>5vNRhkKd0yEAg8suGBpjeY</td>\n",
       "      <td>spotify:track:5vNRhkKd0yEAg8suGBpjeY</td>\n",
       "      <td>APT.</td>\n",
       "      <td>2024-10-18</td>\n",
       "      <td>2024-10-31T12:37:43Z</td>\n",
       "      <td>169917</td>\n",
       "      <td>96</td>\n",
       "      <td>1</td>\n",
       "      <td>...</td>\n",
       "      <td>-4.477</td>\n",
       "      <td>0</td>\n",
       "      <td>0.2600</td>\n",
       "      <td>0.0283</td>\n",
       "      <td>0.0000</td>\n",
       "      <td>0.355</td>\n",
       "      <td>0.939</td>\n",
       "      <td>149.027</td>\n",
       "      <td>169917</td>\n",
       "      <td>4</td>\n",
       "    </tr>\n",
       "    <tr>\n",
       "      <th>1</th>\n",
       "      <td>1HY2Jd0NmPuamShAr6KMms, 0du5cEVh5yTK9QJze8zA0C</td>\n",
       "      <td>10FLjwfpbxLmW8c25Xyc2N</td>\n",
       "      <td>2plbrEY59IikOBgBGLjaoe</td>\n",
       "      <td>spotify:track:2plbrEY59IikOBgBGLjaoe</td>\n",
       "      <td>Die With A Smile</td>\n",
       "      <td>2024-08-16</td>\n",
       "      <td>2024-10-31T12:37:43Z</td>\n",
       "      <td>251667</td>\n",
       "      <td>100</td>\n",
       "      <td>2</td>\n",
       "      <td>...</td>\n",
       "      <td>-7.777</td>\n",
       "      <td>0</td>\n",
       "      <td>0.0304</td>\n",
       "      <td>0.3080</td>\n",
       "      <td>0.0000</td>\n",
       "      <td>0.122</td>\n",
       "      <td>0.535</td>\n",
       "      <td>157.969</td>\n",
       "      <td>251668</td>\n",
       "      <td>3</td>\n",
       "    </tr>\n",
       "    <tr>\n",
       "      <th>2</th>\n",
       "      <td>47z98pKd71yIbgXwe9LPVC</td>\n",
       "      <td>5K8xqV7MCe3UIfedVAlZSe</td>\n",
       "      <td>7zOVh5fGpEwSbZd0g9z80B</td>\n",
       "      <td>spotify:track:7zOVh5fGpEwSbZd0g9z80B</td>\n",
       "      <td>Satu Bulan</td>\n",
       "      <td>2023-06-22</td>\n",
       "      <td>2024-10-31T12:37:43Z</td>\n",
       "      <td>200476</td>\n",
       "      <td>84</td>\n",
       "      <td>3</td>\n",
       "      <td>...</td>\n",
       "      <td>-10.420</td>\n",
       "      <td>1</td>\n",
       "      <td>0.0392</td>\n",
       "      <td>0.9420</td>\n",
       "      <td>0.0498</td>\n",
       "      <td>0.118</td>\n",
       "      <td>0.244</td>\n",
       "      <td>85.744</td>\n",
       "      <td>200476</td>\n",
       "      <td>4</td>\n",
       "    </tr>\n",
       "    <tr>\n",
       "      <th>3</th>\n",
       "      <td>5Plk4JdCzMxhAHSRTEsxJp, 1lg1jqQMMJQQFFMnkxn0zV</td>\n",
       "      <td>59ptvvKVVgt5Oo8R6uYDda</td>\n",
       "      <td>7BgFlmOxrL7M1jVGoxqy37</td>\n",
       "      <td>spotify:track:7BgFlmOxrL7M1jVGoxqy37</td>\n",
       "      <td>Masing Masing</td>\n",
       "      <td>2023-11-03</td>\n",
       "      <td>2024-10-31T12:37:43Z</td>\n",
       "      <td>234589</td>\n",
       "      <td>77</td>\n",
       "      <td>4</td>\n",
       "      <td>...</td>\n",
       "      <td>-5.352</td>\n",
       "      <td>1</td>\n",
       "      <td>0.0292</td>\n",
       "      <td>0.7200</td>\n",
       "      <td>0.0000</td>\n",
       "      <td>0.251</td>\n",
       "      <td>0.389</td>\n",
       "      <td>133.845</td>\n",
       "      <td>234590</td>\n",
       "      <td>4</td>\n",
       "    </tr>\n",
       "    <tr>\n",
       "      <th>4</th>\n",
       "      <td>0f6TyESD8E1mD2oLJ4TGv1</td>\n",
       "      <td>6E4sl58YgjMqfUBNGOfAUa</td>\n",
       "      <td>0PtJbtW50jcvvswNPn3QGd</td>\n",
       "      <td>spotify:track:0PtJbtW50jcvvswNPn3QGd</td>\n",
       "      <td>Serana</td>\n",
       "      <td>2022-09-06</td>\n",
       "      <td>2024-10-31T12:37:43Z</td>\n",
       "      <td>250000</td>\n",
       "      <td>77</td>\n",
       "      <td>5</td>\n",
       "      <td>...</td>\n",
       "      <td>-5.403</td>\n",
       "      <td>1</td>\n",
       "      <td>0.0293</td>\n",
       "      <td>0.0624</td>\n",
       "      <td>0.3720</td>\n",
       "      <td>0.126</td>\n",
       "      <td>0.247</td>\n",
       "      <td>130.029</td>\n",
       "      <td>250000</td>\n",
       "      <td>4</td>\n",
       "    </tr>\n",
       "  </tbody>\n",
       "</table>\n",
       "<p>5 rows × 26 columns</p>\n",
       "</div>"
      ],
      "text/plain": [
       "                                       artists_id                album_id  \\\n",
       "0  3eVa5w3URK5duf6eyVDbu9, 0du5cEVh5yTK9QJze8zA0C  2IYQwwgxgOIn7t3iF6ufFD   \n",
       "1  1HY2Jd0NmPuamShAr6KMms, 0du5cEVh5yTK9QJze8zA0C  10FLjwfpbxLmW8c25Xyc2N   \n",
       "2                          47z98pKd71yIbgXwe9LPVC  5K8xqV7MCe3UIfedVAlZSe   \n",
       "3  5Plk4JdCzMxhAHSRTEsxJp, 1lg1jqQMMJQQFFMnkxn0zV  59ptvvKVVgt5Oo8R6uYDda   \n",
       "4                          0f6TyESD8E1mD2oLJ4TGv1  6E4sl58YgjMqfUBNGOfAUa   \n",
       "\n",
       "                 track_id                             track_uri  \\\n",
       "0  5vNRhkKd0yEAg8suGBpjeY  spotify:track:5vNRhkKd0yEAg8suGBpjeY   \n",
       "1  2plbrEY59IikOBgBGLjaoe  spotify:track:2plbrEY59IikOBgBGLjaoe   \n",
       "2  7zOVh5fGpEwSbZd0g9z80B  spotify:track:7zOVh5fGpEwSbZd0g9z80B   \n",
       "3  7BgFlmOxrL7M1jVGoxqy37  spotify:track:7BgFlmOxrL7M1jVGoxqy37   \n",
       "4  0PtJbtW50jcvvswNPn3QGd  spotify:track:0PtJbtW50jcvvswNPn3QGd   \n",
       "\n",
       "         track_name track_release_date      track_date_added  \\\n",
       "0              APT.         2024-10-18  2024-10-31T12:37:43Z   \n",
       "1  Die With A Smile         2024-08-16  2024-10-31T12:37:43Z   \n",
       "2        Satu Bulan         2023-06-22  2024-10-31T12:37:43Z   \n",
       "3     Masing Masing         2023-11-03  2024-10-31T12:37:43Z   \n",
       "4            Serana         2022-09-06  2024-10-31T12:37:43Z   \n",
       "\n",
       "   track_duration_ms  track_popularity  track_position  ...  loudness mode  \\\n",
       "0             169917                96               1  ...    -4.477    0   \n",
       "1             251667               100               2  ...    -7.777    0   \n",
       "2             200476                84               3  ...   -10.420    1   \n",
       "3             234589                77               4  ...    -5.352    1   \n",
       "4             250000                77               5  ...    -5.403    1   \n",
       "\n",
       "  speechiness  acousticness  instrumentalness  liveness  valence    tempo  \\\n",
       "0      0.2600        0.0283            0.0000     0.355    0.939  149.027   \n",
       "1      0.0304        0.3080            0.0000     0.122    0.535  157.969   \n",
       "2      0.0392        0.9420            0.0498     0.118    0.244   85.744   \n",
       "3      0.0292        0.7200            0.0000     0.251    0.389  133.845   \n",
       "4      0.0293        0.0624            0.3720     0.126    0.247  130.029   \n",
       "\n",
       "   duration_ms  time_signature  \n",
       "0       169917               4  \n",
       "1       251668               3  \n",
       "2       200476               4  \n",
       "3       234590               4  \n",
       "4       250000               4  \n",
       "\n",
       "[5 rows x 26 columns]"
      ]
     },
     "execution_count": 7,
     "metadata": {},
     "output_type": "execute_result"
    }
   ],
   "source": [
    "df2 = pd.read_csv('data/full_tracks.csv')\n",
    "df2.head()"
   ]
  },
  {
   "cell_type": "code",
   "execution_count": 8,
   "metadata": {},
   "outputs": [
    {
     "name": "stdout",
     "output_type": "stream",
     "text": [
      "(300, 14)\n",
      "(204, 8)\n",
      "(300, 26)\n"
     ]
    }
   ],
   "source": [
    "print(df.shape)\n",
    "print(df1.shape)\n",
    "print(df2.shape)"
   ]
  },
  {
   "cell_type": "code",
   "execution_count": 9,
   "metadata": {},
   "outputs": [
    {
     "data": {
      "text/plain": [
       "Index(['artists_id', 'album_id', 'track_id', 'track_uri', 'track_name',\n",
       "       'track_release_date', 'track_date_added', 'track_duration_ms',\n",
       "       'track_popularity', 'track_position', 'is_explicit', 'country',\n",
       "       'timestamp', 'stream_count'],\n",
       "      dtype='object')"
      ]
     },
     "execution_count": 9,
     "metadata": {},
     "output_type": "execute_result"
    }
   ],
   "source": [
    "df.columns"
   ]
  },
  {
   "cell_type": "code",
   "execution_count": 10,
   "metadata": {},
   "outputs": [
    {
     "data": {
      "text/html": [
       "<div>\n",
       "<style scoped>\n",
       "    .dataframe tbody tr th:only-of-type {\n",
       "        vertical-align: middle;\n",
       "    }\n",
       "\n",
       "    .dataframe tbody tr th {\n",
       "        vertical-align: top;\n",
       "    }\n",
       "\n",
       "    .dataframe thead th {\n",
       "        text-align: right;\n",
       "    }\n",
       "</style>\n",
       "<table border=\"1\" class=\"dataframe\">\n",
       "  <thead>\n",
       "    <tr style=\"text-align: right;\">\n",
       "      <th></th>\n",
       "      <th>artists_id</th>\n",
       "      <th>album_id_x</th>\n",
       "      <th>track_id_x</th>\n",
       "      <th>track_uri_x</th>\n",
       "      <th>track_name_x</th>\n",
       "      <th>track_release_date_x</th>\n",
       "      <th>track_date_added_x</th>\n",
       "      <th>track_duration_ms_x</th>\n",
       "      <th>track_popularity_x</th>\n",
       "      <th>track_position_x</th>\n",
       "      <th>...</th>\n",
       "      <th>loudness</th>\n",
       "      <th>mode</th>\n",
       "      <th>speechiness</th>\n",
       "      <th>acousticness</th>\n",
       "      <th>instrumentalness</th>\n",
       "      <th>liveness</th>\n",
       "      <th>valence</th>\n",
       "      <th>tempo</th>\n",
       "      <th>duration_ms</th>\n",
       "      <th>time_signature</th>\n",
       "    </tr>\n",
       "  </thead>\n",
       "  <tbody>\n",
       "    <tr>\n",
       "      <th>0</th>\n",
       "      <td>47z98pKd71yIbgXwe9LPVC</td>\n",
       "      <td>5K8xqV7MCe3UIfedVAlZSe</td>\n",
       "      <td>7zOVh5fGpEwSbZd0g9z80B</td>\n",
       "      <td>spotify:track:7zOVh5fGpEwSbZd0g9z80B</td>\n",
       "      <td>Satu Bulan</td>\n",
       "      <td>2023-06-22</td>\n",
       "      <td>2024-10-31T12:37:43Z</td>\n",
       "      <td>200476</td>\n",
       "      <td>84</td>\n",
       "      <td>3</td>\n",
       "      <td>...</td>\n",
       "      <td>-10.420</td>\n",
       "      <td>1</td>\n",
       "      <td>0.0392</td>\n",
       "      <td>0.942</td>\n",
       "      <td>0.04980</td>\n",
       "      <td>0.118</td>\n",
       "      <td>0.244</td>\n",
       "      <td>85.744</td>\n",
       "      <td>200476</td>\n",
       "      <td>4</td>\n",
       "    </tr>\n",
       "    <tr>\n",
       "      <th>1</th>\n",
       "      <td>47z98pKd71yIbgXwe9LPVC</td>\n",
       "      <td>5K8xqV7MCe3UIfedVAlZSe</td>\n",
       "      <td>7zOVh5fGpEwSbZd0g9z80B</td>\n",
       "      <td>spotify:track:7zOVh5fGpEwSbZd0g9z80B</td>\n",
       "      <td>Satu Bulan</td>\n",
       "      <td>2023-06-22</td>\n",
       "      <td>2024-10-31T12:37:43Z</td>\n",
       "      <td>200476</td>\n",
       "      <td>84</td>\n",
       "      <td>3</td>\n",
       "      <td>...</td>\n",
       "      <td>-9.455</td>\n",
       "      <td>0</td>\n",
       "      <td>0.0325</td>\n",
       "      <td>0.608</td>\n",
       "      <td>0.00797</td>\n",
       "      <td>0.198</td>\n",
       "      <td>0.299</td>\n",
       "      <td>84.956</td>\n",
       "      <td>182903</td>\n",
       "      <td>4</td>\n",
       "    </tr>\n",
       "    <tr>\n",
       "      <th>2</th>\n",
       "      <td>47z98pKd71yIbgXwe9LPVC</td>\n",
       "      <td>5K8xqV7MCe3UIfedVAlZSe</td>\n",
       "      <td>7zOVh5fGpEwSbZd0g9z80B</td>\n",
       "      <td>spotify:track:7zOVh5fGpEwSbZd0g9z80B</td>\n",
       "      <td>Satu Bulan</td>\n",
       "      <td>2023-06-22</td>\n",
       "      <td>2024-10-31T12:37:43Z</td>\n",
       "      <td>200476</td>\n",
       "      <td>84</td>\n",
       "      <td>3</td>\n",
       "      <td>...</td>\n",
       "      <td>-9.794</td>\n",
       "      <td>1</td>\n",
       "      <td>0.0371</td>\n",
       "      <td>0.877</td>\n",
       "      <td>0.02630</td>\n",
       "      <td>0.115</td>\n",
       "      <td>0.215</td>\n",
       "      <td>78.335</td>\n",
       "      <td>191141</td>\n",
       "      <td>4</td>\n",
       "    </tr>\n",
       "    <tr>\n",
       "      <th>3</th>\n",
       "      <td>47z98pKd71yIbgXwe9LPVC</td>\n",
       "      <td>5K8xqV7MCe3UIfedVAlZSe</td>\n",
       "      <td>7zOVh5fGpEwSbZd0g9z80B</td>\n",
       "      <td>spotify:track:7zOVh5fGpEwSbZd0g9z80B</td>\n",
       "      <td>Satu Bulan</td>\n",
       "      <td>2023-06-22</td>\n",
       "      <td>2024-10-31T12:37:43Z</td>\n",
       "      <td>200476</td>\n",
       "      <td>84</td>\n",
       "      <td>3</td>\n",
       "      <td>...</td>\n",
       "      <td>-12.370</td>\n",
       "      <td>1</td>\n",
       "      <td>0.0331</td>\n",
       "      <td>0.892</td>\n",
       "      <td>0.26600</td>\n",
       "      <td>0.138</td>\n",
       "      <td>0.253</td>\n",
       "      <td>90.147</td>\n",
       "      <td>238880</td>\n",
       "      <td>4</td>\n",
       "    </tr>\n",
       "    <tr>\n",
       "      <th>4</th>\n",
       "      <td>47z98pKd71yIbgXwe9LPVC</td>\n",
       "      <td>5K8xqV7MCe3UIfedVAlZSe</td>\n",
       "      <td>7zOVh5fGpEwSbZd0g9z80B</td>\n",
       "      <td>spotify:track:7zOVh5fGpEwSbZd0g9z80B</td>\n",
       "      <td>Satu Bulan</td>\n",
       "      <td>2023-06-22</td>\n",
       "      <td>2024-10-31T12:37:43Z</td>\n",
       "      <td>200476</td>\n",
       "      <td>84</td>\n",
       "      <td>3</td>\n",
       "      <td>...</td>\n",
       "      <td>-9.695</td>\n",
       "      <td>1</td>\n",
       "      <td>0.0306</td>\n",
       "      <td>0.904</td>\n",
       "      <td>0.14600</td>\n",
       "      <td>0.116</td>\n",
       "      <td>0.243</td>\n",
       "      <td>149.960</td>\n",
       "      <td>284137</td>\n",
       "      <td>4</td>\n",
       "    </tr>\n",
       "  </tbody>\n",
       "</table>\n",
       "<p>5 rows × 46 columns</p>\n",
       "</div>"
      ],
      "text/plain": [
       "               artists_id              album_id_x              track_id_x  \\\n",
       "0  47z98pKd71yIbgXwe9LPVC  5K8xqV7MCe3UIfedVAlZSe  7zOVh5fGpEwSbZd0g9z80B   \n",
       "1  47z98pKd71yIbgXwe9LPVC  5K8xqV7MCe3UIfedVAlZSe  7zOVh5fGpEwSbZd0g9z80B   \n",
       "2  47z98pKd71yIbgXwe9LPVC  5K8xqV7MCe3UIfedVAlZSe  7zOVh5fGpEwSbZd0g9z80B   \n",
       "3  47z98pKd71yIbgXwe9LPVC  5K8xqV7MCe3UIfedVAlZSe  7zOVh5fGpEwSbZd0g9z80B   \n",
       "4  47z98pKd71yIbgXwe9LPVC  5K8xqV7MCe3UIfedVAlZSe  7zOVh5fGpEwSbZd0g9z80B   \n",
       "\n",
       "                            track_uri_x track_name_x track_release_date_x  \\\n",
       "0  spotify:track:7zOVh5fGpEwSbZd0g9z80B   Satu Bulan           2023-06-22   \n",
       "1  spotify:track:7zOVh5fGpEwSbZd0g9z80B   Satu Bulan           2023-06-22   \n",
       "2  spotify:track:7zOVh5fGpEwSbZd0g9z80B   Satu Bulan           2023-06-22   \n",
       "3  spotify:track:7zOVh5fGpEwSbZd0g9z80B   Satu Bulan           2023-06-22   \n",
       "4  spotify:track:7zOVh5fGpEwSbZd0g9z80B   Satu Bulan           2023-06-22   \n",
       "\n",
       "     track_date_added_x  track_duration_ms_x  track_popularity_x  \\\n",
       "0  2024-10-31T12:37:43Z               200476                  84   \n",
       "1  2024-10-31T12:37:43Z               200476                  84   \n",
       "2  2024-10-31T12:37:43Z               200476                  84   \n",
       "3  2024-10-31T12:37:43Z               200476                  84   \n",
       "4  2024-10-31T12:37:43Z               200476                  84   \n",
       "\n",
       "   track_position_x  ...  loudness mode speechiness  acousticness  \\\n",
       "0                 3  ...   -10.420    1      0.0392         0.942   \n",
       "1                 3  ...    -9.455    0      0.0325         0.608   \n",
       "2                 3  ...    -9.794    1      0.0371         0.877   \n",
       "3                 3  ...   -12.370    1      0.0331         0.892   \n",
       "4                 3  ...    -9.695    1      0.0306         0.904   \n",
       "\n",
       "  instrumentalness liveness valence    tempo  duration_ms time_signature  \n",
       "0          0.04980    0.118   0.244   85.744       200476              4  \n",
       "1          0.00797    0.198   0.299   84.956       182903              4  \n",
       "2          0.02630    0.115   0.215   78.335       191141              4  \n",
       "3          0.26600    0.138   0.253   90.147       238880              4  \n",
       "4          0.14600    0.116   0.243  149.960       284137              4  \n",
       "\n",
       "[5 rows x 46 columns]"
      ]
     },
     "execution_count": 10,
     "metadata": {},
     "output_type": "execute_result"
    }
   ],
   "source": [
    "# Merge the dataframes\n",
    "df1 = df1.rename(columns={'artist_id':'artists_id'})\n",
    "# join the dataframes\n",
    "df0 = df.merge(df1, on='artists_id', how='inner')\n",
    "df0 = df0.merge(df2, on='artists_id', how='inner')\n",
    "df0.head()\n"
   ]
  },
  {
   "cell_type": "code",
   "execution_count": 11,
   "metadata": {},
   "outputs": [
    {
     "data": {
      "text/plain": [
       "Index(['artists_id', 'album_id_x', 'track_id_x', 'track_uri_x', 'track_name_x',\n",
       "       'track_release_date_x', 'track_date_added_x', 'track_duration_ms_x',\n",
       "       'track_popularity_x', 'track_position_x', 'is_explicit_x', 'country_x',\n",
       "       'timestamp_x', 'stream_count', 'artist_uri', 'artist_name',\n",
       "       'artist_genres', 'artist_popularity', 'artist_follower',\n",
       "       'artist_image_url', 'timestamp_y', 'album_id_y', 'track_id_y',\n",
       "       'track_uri_y', 'track_name_y', 'track_release_date_y',\n",
       "       'track_date_added_y', 'track_duration_ms_y', 'track_popularity_y',\n",
       "       'track_position_y', 'is_explicit_y', 'country_y', 'timestamp',\n",
       "       'danceability', 'energy', 'key', 'loudness', 'mode', 'speechiness',\n",
       "       'acousticness', 'instrumentalness', 'liveness', 'valence', 'tempo',\n",
       "       'duration_ms', 'time_signature'],\n",
       "      dtype='object')"
      ]
     },
     "execution_count": 11,
     "metadata": {},
     "output_type": "execute_result"
    }
   ],
   "source": [
    "df0.columns"
   ]
  },
  {
   "cell_type": "code",
   "execution_count": 12,
   "metadata": {},
   "outputs": [
    {
     "data": {
      "text/plain": [
       "Index(['artists_id', 'album_id', 'track_id', 'track_uri', 'track_name',\n",
       "       'track_release_date', 'track_date_added', 'track_duration_ms',\n",
       "       'track_popularity', 'track_position', 'is_explicit', 'country',\n",
       "       'timestamp', 'stream_count', 'artist_uri', 'artist_name',\n",
       "       'artist_genres', 'artist_popularity', 'artist_follower',\n",
       "       'artist_image_url', 'timestamp', 'danceability', 'energy', 'key',\n",
       "       'loudness', 'mode', 'speechiness', 'acousticness', 'instrumentalness',\n",
       "       'liveness', 'valence', 'tempo', 'duration_ms', 'time_signature'],\n",
       "      dtype='object')"
      ]
     },
     "execution_count": 12,
     "metadata": {},
     "output_type": "execute_result"
    }
   ],
   "source": [
    "# xóa các cột có đuôi là _y\n",
    "df0 = df0[df0.columns.drop(list(df0.filter(regex='_y')))]\n",
    "# rename các cột có đuôi là _x thành ''\n",
    "df0.columns = df0.columns.str.replace('_x', '')\n",
    "df0.columns"
   ]
  },
  {
   "cell_type": "code",
   "execution_count": 13,
   "metadata": {},
   "outputs": [
    {
     "data": {
      "text/html": [
       "<div>\n",
       "<style scoped>\n",
       "    .dataframe tbody tr th:only-of-type {\n",
       "        vertical-align: middle;\n",
       "    }\n",
       "\n",
       "    .dataframe tbody tr th {\n",
       "        vertical-align: top;\n",
       "    }\n",
       "\n",
       "    .dataframe thead th {\n",
       "        text-align: right;\n",
       "    }\n",
       "</style>\n",
       "<table border=\"1\" class=\"dataframe\">\n",
       "  <thead>\n",
       "    <tr style=\"text-align: right;\">\n",
       "      <th></th>\n",
       "      <th>artists_id</th>\n",
       "      <th>album_id</th>\n",
       "      <th>track_id</th>\n",
       "      <th>track_name</th>\n",
       "      <th>track_release_date</th>\n",
       "      <th>track_duration_ms</th>\n",
       "      <th>track_popularity</th>\n",
       "      <th>track_position</th>\n",
       "      <th>is_explicit</th>\n",
       "      <th>country</th>\n",
       "      <th>stream_count</th>\n",
       "      <th>artist_name</th>\n",
       "      <th>artist_genres</th>\n",
       "      <th>artist_popularity</th>\n",
       "      <th>mode</th>\n",
       "    </tr>\n",
       "  </thead>\n",
       "  <tbody>\n",
       "    <tr>\n",
       "      <th>0</th>\n",
       "      <td>47z98pKd71yIbgXwe9LPVC</td>\n",
       "      <td>5K8xqV7MCe3UIfedVAlZSe</td>\n",
       "      <td>7zOVh5fGpEwSbZd0g9z80B</td>\n",
       "      <td>Satu Bulan</td>\n",
       "      <td>2023-06-22</td>\n",
       "      <td>200476</td>\n",
       "      <td>84</td>\n",
       "      <td>3</td>\n",
       "      <td>False</td>\n",
       "      <td>Indonesia</td>\n",
       "      <td>206778990</td>\n",
       "      <td>Bernadya</td>\n",
       "      <td>[]</td>\n",
       "      <td>83</td>\n",
       "      <td>1</td>\n",
       "    </tr>\n",
       "    <tr>\n",
       "      <th>1</th>\n",
       "      <td>47z98pKd71yIbgXwe9LPVC</td>\n",
       "      <td>5K8xqV7MCe3UIfedVAlZSe</td>\n",
       "      <td>7zOVh5fGpEwSbZd0g9z80B</td>\n",
       "      <td>Satu Bulan</td>\n",
       "      <td>2023-06-22</td>\n",
       "      <td>200476</td>\n",
       "      <td>84</td>\n",
       "      <td>3</td>\n",
       "      <td>False</td>\n",
       "      <td>Indonesia</td>\n",
       "      <td>206778990</td>\n",
       "      <td>Bernadya</td>\n",
       "      <td>[]</td>\n",
       "      <td>83</td>\n",
       "      <td>0</td>\n",
       "    </tr>\n",
       "    <tr>\n",
       "      <th>2</th>\n",
       "      <td>47z98pKd71yIbgXwe9LPVC</td>\n",
       "      <td>5K8xqV7MCe3UIfedVAlZSe</td>\n",
       "      <td>7zOVh5fGpEwSbZd0g9z80B</td>\n",
       "      <td>Satu Bulan</td>\n",
       "      <td>2023-06-22</td>\n",
       "      <td>200476</td>\n",
       "      <td>84</td>\n",
       "      <td>3</td>\n",
       "      <td>False</td>\n",
       "      <td>Indonesia</td>\n",
       "      <td>206778990</td>\n",
       "      <td>Bernadya</td>\n",
       "      <td>[]</td>\n",
       "      <td>83</td>\n",
       "      <td>1</td>\n",
       "    </tr>\n",
       "    <tr>\n",
       "      <th>3</th>\n",
       "      <td>47z98pKd71yIbgXwe9LPVC</td>\n",
       "      <td>5K8xqV7MCe3UIfedVAlZSe</td>\n",
       "      <td>7zOVh5fGpEwSbZd0g9z80B</td>\n",
       "      <td>Satu Bulan</td>\n",
       "      <td>2023-06-22</td>\n",
       "      <td>200476</td>\n",
       "      <td>84</td>\n",
       "      <td>3</td>\n",
       "      <td>False</td>\n",
       "      <td>Indonesia</td>\n",
       "      <td>206778990</td>\n",
       "      <td>Bernadya</td>\n",
       "      <td>[]</td>\n",
       "      <td>83</td>\n",
       "      <td>1</td>\n",
       "    </tr>\n",
       "    <tr>\n",
       "      <th>4</th>\n",
       "      <td>47z98pKd71yIbgXwe9LPVC</td>\n",
       "      <td>5K8xqV7MCe3UIfedVAlZSe</td>\n",
       "      <td>7zOVh5fGpEwSbZd0g9z80B</td>\n",
       "      <td>Satu Bulan</td>\n",
       "      <td>2023-06-22</td>\n",
       "      <td>200476</td>\n",
       "      <td>84</td>\n",
       "      <td>3</td>\n",
       "      <td>False</td>\n",
       "      <td>Indonesia</td>\n",
       "      <td>206778990</td>\n",
       "      <td>Bernadya</td>\n",
       "      <td>[]</td>\n",
       "      <td>83</td>\n",
       "      <td>1</td>\n",
       "    </tr>\n",
       "  </tbody>\n",
       "</table>\n",
       "</div>"
      ],
      "text/plain": [
       "               artists_id                album_id                track_id  \\\n",
       "0  47z98pKd71yIbgXwe9LPVC  5K8xqV7MCe3UIfedVAlZSe  7zOVh5fGpEwSbZd0g9z80B   \n",
       "1  47z98pKd71yIbgXwe9LPVC  5K8xqV7MCe3UIfedVAlZSe  7zOVh5fGpEwSbZd0g9z80B   \n",
       "2  47z98pKd71yIbgXwe9LPVC  5K8xqV7MCe3UIfedVAlZSe  7zOVh5fGpEwSbZd0g9z80B   \n",
       "3  47z98pKd71yIbgXwe9LPVC  5K8xqV7MCe3UIfedVAlZSe  7zOVh5fGpEwSbZd0g9z80B   \n",
       "4  47z98pKd71yIbgXwe9LPVC  5K8xqV7MCe3UIfedVAlZSe  7zOVh5fGpEwSbZd0g9z80B   \n",
       "\n",
       "   track_name track_release_date  track_duration_ms  track_popularity  \\\n",
       "0  Satu Bulan         2023-06-22             200476                84   \n",
       "1  Satu Bulan         2023-06-22             200476                84   \n",
       "2  Satu Bulan         2023-06-22             200476                84   \n",
       "3  Satu Bulan         2023-06-22             200476                84   \n",
       "4  Satu Bulan         2023-06-22             200476                84   \n",
       "\n",
       "   track_position  is_explicit    country  stream_count artist_name  \\\n",
       "0               3        False  Indonesia     206778990    Bernadya   \n",
       "1               3        False  Indonesia     206778990    Bernadya   \n",
       "2               3        False  Indonesia     206778990    Bernadya   \n",
       "3               3        False  Indonesia     206778990    Bernadya   \n",
       "4               3        False  Indonesia     206778990    Bernadya   \n",
       "\n",
       "  artist_genres  artist_popularity  mode  \n",
       "0            []                 83     1  \n",
       "1            []                 83     0  \n",
       "2            []                 83     1  \n",
       "3            []                 83     1  \n",
       "4            []                 83     1  "
      ]
     },
     "execution_count": 13,
     "metadata": {},
     "output_type": "execute_result"
    }
   ],
   "source": [
    "df0 = df0.drop(columns=['track_uri', 'track_date_added',\n",
    "       'timestamp', 'timestamp', 'timestamp', 'timestamp',\n",
    "       'timestamp', 'timestamp', 'timestamp', 'artist_uri', 'artist_follower',\n",
    "       'artist_image_url', 'timestamp', 'timestamp', 'timestamp', 'timestamp',\n",
    "       'timestamp', 'timestamp', 'timestamp', 'timestamp', 'danceability',\n",
    "       'energy', 'key', 'loudness', 'speechiness', 'acousticness',\n",
    "       'instrumentalness', 'liveness', 'valence', 'tempo', 'duration_ms',\n",
    "       'time_signature'])\n",
    "df0.head()"
   ]
  },
  {
   "cell_type": "code",
   "execution_count": 14,
   "metadata": {},
   "outputs": [
    {
     "data": {
      "text/plain": [
       "(811, 15)"
      ]
     },
     "execution_count": 14,
     "metadata": {},
     "output_type": "execute_result"
    }
   ],
   "source": [
    "df0.shape"
   ]
  },
  {
   "cell_type": "code",
   "execution_count": 15,
   "metadata": {},
   "outputs": [],
   "source": [
    "df0.to_csv('data/clean_data.csv', index=False)"
   ]
  },
  {
   "cell_type": "markdown",
   "metadata": {},
   "source": [
    "**Lưu ý: Code này chỉ 1 thành viên chạy 1 lần. Các thành viên khác chỉ cần download `clean_data.csv` về phân tích.**"
   ]
  },
  {
   "cell_type": "markdown",
   "metadata": {},
   "source": [
    "## 1. Tiền xử lý dữ liệu"
   ]
  },
  {
   "cell_type": "code",
   "execution_count": 16,
   "metadata": {},
   "outputs": [
    {
     "data": {
      "text/html": [
       "<div>\n",
       "<style scoped>\n",
       "    .dataframe tbody tr th:only-of-type {\n",
       "        vertical-align: middle;\n",
       "    }\n",
       "\n",
       "    .dataframe tbody tr th {\n",
       "        vertical-align: top;\n",
       "    }\n",
       "\n",
       "    .dataframe thead th {\n",
       "        text-align: right;\n",
       "    }\n",
       "</style>\n",
       "<table border=\"1\" class=\"dataframe\">\n",
       "  <thead>\n",
       "    <tr style=\"text-align: right;\">\n",
       "      <th></th>\n",
       "      <th>artists_id</th>\n",
       "      <th>album_id</th>\n",
       "      <th>track_id</th>\n",
       "      <th>track_name</th>\n",
       "      <th>track_release_date</th>\n",
       "      <th>track_duration_ms</th>\n",
       "      <th>track_popularity</th>\n",
       "      <th>track_position</th>\n",
       "      <th>is_explicit</th>\n",
       "      <th>country</th>\n",
       "      <th>stream_count</th>\n",
       "      <th>artist_name</th>\n",
       "      <th>artist_genres</th>\n",
       "      <th>artist_popularity</th>\n",
       "      <th>mode</th>\n",
       "    </tr>\n",
       "  </thead>\n",
       "  <tbody>\n",
       "    <tr>\n",
       "      <th>0</th>\n",
       "      <td>47z98pKd71yIbgXwe9LPVC</td>\n",
       "      <td>5K8xqV7MCe3UIfedVAlZSe</td>\n",
       "      <td>7zOVh5fGpEwSbZd0g9z80B</td>\n",
       "      <td>Satu Bulan</td>\n",
       "      <td>2023-06-22</td>\n",
       "      <td>200476</td>\n",
       "      <td>84</td>\n",
       "      <td>3</td>\n",
       "      <td>False</td>\n",
       "      <td>Indonesia</td>\n",
       "      <td>206778990</td>\n",
       "      <td>Bernadya</td>\n",
       "      <td>[]</td>\n",
       "      <td>83</td>\n",
       "      <td>1</td>\n",
       "    </tr>\n",
       "    <tr>\n",
       "      <th>1</th>\n",
       "      <td>47z98pKd71yIbgXwe9LPVC</td>\n",
       "      <td>5K8xqV7MCe3UIfedVAlZSe</td>\n",
       "      <td>7zOVh5fGpEwSbZd0g9z80B</td>\n",
       "      <td>Satu Bulan</td>\n",
       "      <td>2023-06-22</td>\n",
       "      <td>200476</td>\n",
       "      <td>84</td>\n",
       "      <td>3</td>\n",
       "      <td>False</td>\n",
       "      <td>Indonesia</td>\n",
       "      <td>206778990</td>\n",
       "      <td>Bernadya</td>\n",
       "      <td>[]</td>\n",
       "      <td>83</td>\n",
       "      <td>0</td>\n",
       "    </tr>\n",
       "    <tr>\n",
       "      <th>2</th>\n",
       "      <td>47z98pKd71yIbgXwe9LPVC</td>\n",
       "      <td>5K8xqV7MCe3UIfedVAlZSe</td>\n",
       "      <td>7zOVh5fGpEwSbZd0g9z80B</td>\n",
       "      <td>Satu Bulan</td>\n",
       "      <td>2023-06-22</td>\n",
       "      <td>200476</td>\n",
       "      <td>84</td>\n",
       "      <td>3</td>\n",
       "      <td>False</td>\n",
       "      <td>Indonesia</td>\n",
       "      <td>206778990</td>\n",
       "      <td>Bernadya</td>\n",
       "      <td>[]</td>\n",
       "      <td>83</td>\n",
       "      <td>1</td>\n",
       "    </tr>\n",
       "    <tr>\n",
       "      <th>3</th>\n",
       "      <td>47z98pKd71yIbgXwe9LPVC</td>\n",
       "      <td>5K8xqV7MCe3UIfedVAlZSe</td>\n",
       "      <td>7zOVh5fGpEwSbZd0g9z80B</td>\n",
       "      <td>Satu Bulan</td>\n",
       "      <td>2023-06-22</td>\n",
       "      <td>200476</td>\n",
       "      <td>84</td>\n",
       "      <td>3</td>\n",
       "      <td>False</td>\n",
       "      <td>Indonesia</td>\n",
       "      <td>206778990</td>\n",
       "      <td>Bernadya</td>\n",
       "      <td>[]</td>\n",
       "      <td>83</td>\n",
       "      <td>1</td>\n",
       "    </tr>\n",
       "    <tr>\n",
       "      <th>4</th>\n",
       "      <td>47z98pKd71yIbgXwe9LPVC</td>\n",
       "      <td>5K8xqV7MCe3UIfedVAlZSe</td>\n",
       "      <td>7zOVh5fGpEwSbZd0g9z80B</td>\n",
       "      <td>Satu Bulan</td>\n",
       "      <td>2023-06-22</td>\n",
       "      <td>200476</td>\n",
       "      <td>84</td>\n",
       "      <td>3</td>\n",
       "      <td>False</td>\n",
       "      <td>Indonesia</td>\n",
       "      <td>206778990</td>\n",
       "      <td>Bernadya</td>\n",
       "      <td>[]</td>\n",
       "      <td>83</td>\n",
       "      <td>1</td>\n",
       "    </tr>\n",
       "  </tbody>\n",
       "</table>\n",
       "</div>"
      ],
      "text/plain": [
       "               artists_id                album_id                track_id  \\\n",
       "0  47z98pKd71yIbgXwe9LPVC  5K8xqV7MCe3UIfedVAlZSe  7zOVh5fGpEwSbZd0g9z80B   \n",
       "1  47z98pKd71yIbgXwe9LPVC  5K8xqV7MCe3UIfedVAlZSe  7zOVh5fGpEwSbZd0g9z80B   \n",
       "2  47z98pKd71yIbgXwe9LPVC  5K8xqV7MCe3UIfedVAlZSe  7zOVh5fGpEwSbZd0g9z80B   \n",
       "3  47z98pKd71yIbgXwe9LPVC  5K8xqV7MCe3UIfedVAlZSe  7zOVh5fGpEwSbZd0g9z80B   \n",
       "4  47z98pKd71yIbgXwe9LPVC  5K8xqV7MCe3UIfedVAlZSe  7zOVh5fGpEwSbZd0g9z80B   \n",
       "\n",
       "   track_name track_release_date  track_duration_ms  track_popularity  \\\n",
       "0  Satu Bulan         2023-06-22             200476                84   \n",
       "1  Satu Bulan         2023-06-22             200476                84   \n",
       "2  Satu Bulan         2023-06-22             200476                84   \n",
       "3  Satu Bulan         2023-06-22             200476                84   \n",
       "4  Satu Bulan         2023-06-22             200476                84   \n",
       "\n",
       "   track_position  is_explicit    country  stream_count artist_name  \\\n",
       "0               3        False  Indonesia     206778990    Bernadya   \n",
       "1               3        False  Indonesia     206778990    Bernadya   \n",
       "2               3        False  Indonesia     206778990    Bernadya   \n",
       "3               3        False  Indonesia     206778990    Bernadya   \n",
       "4               3        False  Indonesia     206778990    Bernadya   \n",
       "\n",
       "  artist_genres  artist_popularity  mode  \n",
       "0            []                 83     1  \n",
       "1            []                 83     0  \n",
       "2            []                 83     1  \n",
       "3            []                 83     1  \n",
       "4            []                 83     1  "
      ]
     },
     "execution_count": 16,
     "metadata": {},
     "output_type": "execute_result"
    }
   ],
   "source": [
    "df = pd.read_csv('data/clean_data.csv')\n",
    "df.head()"
   ]
  },
  {
   "cell_type": "code",
   "execution_count": 17,
   "metadata": {},
   "outputs": [
    {
     "data": {
      "text/plain": [
       "(811, 15)"
      ]
     },
     "execution_count": 17,
     "metadata": {},
     "output_type": "execute_result"
    }
   ],
   "source": [
    "df.shape"
   ]
  },
  {
   "cell_type": "markdown",
   "metadata": {},
   "source": [
    "### 1.1. Xử lý dữ liệu thiếu"
   ]
  },
  {
   "cell_type": "code",
   "execution_count": 18,
   "metadata": {},
   "outputs": [
    {
     "data": {
      "text/plain": [
       "artists_id            0\n",
       "album_id              0\n",
       "track_id              0\n",
       "track_name            0\n",
       "track_release_date    0\n",
       "track_duration_ms     0\n",
       "track_popularity      0\n",
       "track_position        0\n",
       "is_explicit           0\n",
       "country               0\n",
       "stream_count          0\n",
       "artist_name           0\n",
       "artist_genres         0\n",
       "artist_popularity     0\n",
       "mode                  0\n",
       "dtype: int64"
      ]
     },
     "execution_count": 18,
     "metadata": {},
     "output_type": "execute_result"
    }
   ],
   "source": [
    "df.isnull().sum()"
   ]
  },
  {
   "cell_type": "markdown",
   "metadata": {},
   "source": [
    "Qua kiểm tra data không có dữ liệu thiếu trong quá trình thu thập."
   ]
  },
  {
   "cell_type": "markdown",
   "metadata": {},
   "source": [
    "### 1.2. Xử lý trùng lặp"
   ]
  },
  {
   "cell_type": "code",
   "execution_count": 19,
   "metadata": {},
   "outputs": [
    {
     "data": {
      "text/plain": [
       "546"
      ]
     },
     "execution_count": 19,
     "metadata": {},
     "output_type": "execute_result"
    }
   ],
   "source": [
    "df.duplicated().sum()"
   ]
  },
  {
   "cell_type": "markdown",
   "metadata": {},
   "source": [
    "Qua kiểm tra dữ liệu có 546 dòng bị trùng lặp. Những dòng này là những dòng bị lỗi trong quá trình thu thập dữ liệu. Nên nhóm quyết định xóa những dòng này."
   ]
  },
  {
   "cell_type": "code",
   "execution_count": 20,
   "metadata": {},
   "outputs": [
    {
     "data": {
      "text/plain": [
       "(265, 15)"
      ]
     },
     "execution_count": 20,
     "metadata": {},
     "output_type": "execute_result"
    }
   ],
   "source": [
    "df = df.drop_duplicates()\n",
    "df.shape"
   ]
  },
  {
   "cell_type": "markdown",
   "metadata": {},
   "source": [
    "### 1.3. Xử lý dữ liệu ngoại lai"
   ]
  },
  {
   "cell_type": "code",
   "execution_count": 21,
   "metadata": {},
   "outputs": [],
   "source": [
    "numerical = df.select_dtypes(include=[np.number]).columns\n",
    "categorical = df.select_dtypes(include=[object]).columns "
   ]
  },
  {
   "cell_type": "code",
   "execution_count": 22,
   "metadata": {},
   "outputs": [
    {
     "data": {
      "image/png": "[encoded data removed]",
      "text/plain": [
       "<Figure size 2000x1000 with 1 Axes>"
      ]
     },
     "metadata": {},
     "output_type": "display_data"
    }
   ],
   "source": [
    "plt.figure(figsize=(20, 10))\n",
    "sns.boxplot(data=df[numerical])\n",
    "plt.xticks(rotation=90)\n",
    "plt.show()"
   ]
  },
  {
   "cell_type": "markdown",
   "metadata": {},
   "source": [
    "Qua biểu đồ ta thấy có một số dữ liệu ngoại lai ở cột `steam_count`. Nhóm quyết định xóa những dòng này."
   ]
  },
  {
   "cell_type": "code",
   "execution_count": 23,
   "metadata": {},
   "outputs": [
    {
     "data": {
      "text/plain": [
       "(261, 15)"
      ]
     },
     "execution_count": 23,
     "metadata": {},
     "output_type": "execute_result"
    }
   ],
   "source": [
    "Q1 = df['stream_count'].quantile(0.25)\n",
    "Q3 = df['stream_count'].quantile(0.75)\n",
    "IQR = Q3 - Q1\n",
    "df = df[(df['stream_count'] >= Q1 - 1.5*IQR) & (df['stream_count'] <= Q3 + 1.5*IQR)]\n",
    "df.shape"
   ]
  },
  {
   "cell_type": "markdown",
   "metadata": {},
   "source": [
    "### 1.4. Định dạng các cột, thêm xóa cột "
   ]
  },
  {
   "cell_type": "code",
   "execution_count": 26,
   "metadata": {},
   "outputs": [
    {
     "data": {
      "text/plain": [
       "artists_id            object\n",
       "album_id              object\n",
       "track_id              object\n",
       "track_name            object\n",
       "track_release_date    object\n",
       "track_duration_ms      int64\n",
       "track_popularity       int64\n",
       "track_position         int64\n",
       "is_explicit             bool\n",
       "country               object\n",
       "stream_count           int64\n",
       "artist_name           object\n",
       "artist_genres         object\n",
       "artist_popularity      int64\n",
       "mode                   int64\n",
       "dtype: object"
      ]
     },
     "execution_count": 26,
     "metadata": {},
     "output_type": "execute_result"
    }
   ],
   "source": [
    "df.dtypes"
   ]
  },
  {
   "cell_type": "code",
   "execution_count": 28,
   "metadata": {},
   "outputs": [],
   "source": [
    "# track_release_date chuyển sang kiểu datetime\n",
    "df['track_release_date'] = pd.to_datetime(df['track_release_date'])\n",
    "# Thêm cột year\n",
    "df['year'] = df['track_release_date'].dt.year\n",
    "# Thêm cột month\n",
    "df['month'] = df['track_release_date'].dt.month\n",
    "# Thêm cột day\n",
    "df['day'] = df['track_release_date'].dt.day"
   ]
  },
  {
   "cell_type": "markdown",
   "metadata": {},
   "source": [
    "## 2. Phân tích dữ liệu"
   ]
  },
  {
   "cell_type": "markdown",
   "metadata": {},
   "source": [
    "### 2.1. Phân bố dữ liệu từng cột "
   ]
  },
  {
   "cell_type": "markdown",
   "metadata": {},
   "source": [
    "#### 2.1.1. track_name"
   ]
  },
  {
   "cell_type": "code",
   "execution_count": 36,
   "metadata": {},
   "outputs": [
    {
     "data": {
      "image/png": "[encoded data removed]",
      "text/plain": [
       "<Figure size 1400x600 with 1 Axes>"
      ]
     },
     "metadata": {},
     "output_type": "display_data"
    }
   ],
   "source": [
    "# Top 10 bài hát được nghe nhiều nhất\n",
    "top_10 = df.groupby('track_name')['stream_count'].max().sort_values(ascending=False).head(10)\n",
    "top_10 = np.log(top_10)\n",
    "\n",
    "plt.figure(figsize=(14, 6))\n",
    "top_10.plot(kind='bar')\n",
    "plt.title('Top 10 tracks')\n",
    "plt.ylabel('Stream count')\n",
    "for index, value in enumerate(top_10):\n",
    "    plt.text(index, value, str(round(np.exp(value), 2)), ha = 'center')\n",
    "plt.show()"
   ]
  },
  {
   "cell_type": "markdown",
   "metadata": {},
   "source": [
    "Nhận xét: \n"
   ]
  },
  {
   "cell_type": "code",
   "execution_count": 40,
   "metadata": {},
   "outputs": [
    {
     "data": {
      "image/png": "[encoded data removed]",
      "text/plain": [
       "<Figure size 1400x600 with 1 Axes>"
      ]
     },
     "metadata": {},
     "output_type": "display_data"
    }
   ],
   "source": [
    "# Top 10 nghệ sĩ được nghe nhiều nhất\n",
    "top_10 = df.groupby('artist_name')['stream_count'].max().sort_values(ascending=False).head(10)\n",
    "top_10 = np.log(top_10)\n",
    "\n",
    "plt.figure(figsize=(14, 6))\n",
    "top_10.plot(kind='barh')\n",
    "plt.title('Top 10 artists')\n",
    "plt.ylabel('Stream count')\n",
    "for index, value in enumerate(top_10):\n",
    "    plt.text(value, index, str(round(np.exp(value), 2)), va = 'center')\n",
    "plt.show()"
   ]
  },
  {
   "cell_type": "code",
   "execution_count": null,
   "metadata": {},
   "outputs": [],
   "source": []
  }
 ],
 "metadata": {
  "kernelspec": {
   "display_name": "Python 3",
   "language": "python",
   "name": "python3"
  },
  "language_info": {
   "codemirror_mode": {
    "name": "ipython",
    "version": 3
   },
   "file_extension": ".py",
   "mimetype": "text/x-python",
   "name": "python",
   "nbconvert_exporter": "python",
   "pygments_lexer": "ipython3",
   "version": "3.11.9"
  }
 },
 "nbformat": 4,
 "nbformat_minor": 2
}
