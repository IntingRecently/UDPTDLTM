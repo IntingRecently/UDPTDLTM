{
 "cells": [
  {
   "cell_type": "markdown",
   "metadata": {},
   "source": [
    "# Đồ án: Ứng dụng phân tích dữ liệu thông minh"
   ]
  },
  {
   "cell_type": "markdown",
   "metadata": {},
   "source": [
    "Thành viên nhóm: <tên> bao gồm:\n",
    "- MSSV: <Họ tên>"
   ]
  },
  {
   "cell_type": "markdown",
   "metadata": {},
   "source": [
    "# A. Giới thiệu đề tài"
   ]
  },
  {
   "cell_type": "markdown",
   "metadata": {},
   "source": [
    "## 1. Ngữ cảnh"
   ]
  },
  {
   "cell_type": "markdown",
   "metadata": {},
   "source": [
    "Hiện trạng: \n",
    "\n",
    "Chọn đề tài để:\n"
   ]
  },
  {
   "cell_type": "markdown",
   "metadata": {},
   "source": [
    "## 2. Thu thập và mô tả dữ liệu"
   ]
  },
  {
   "cell_type": "markdown",
   "metadata": {},
   "source": [
    "Dữ liệu được thu thập từ trang ...., bằng API. \n",
    "\n",
    "Dữ liệu Spotify các nước đông nam á(...), có các trường tiêu biểu \n",
    "- \n",
    "- \n",
    "- \n"
   ]
  },
  {
   "cell_type": "markdown",
   "metadata": {},
   "source": [
    "# B. Bài phân tích"
   ]
  },
  {
   "cell_type": "markdown",
   "metadata": {},
   "source": [
    "## 0. Import thư viện"
   ]
  },
  {
   "cell_type": "code",
   "execution_count": 1,
   "metadata": {},
   "outputs": [],
   "source": [
    "import pandas as pd\n",
    "import numpy as np\n",
    "import matplotlib.pyplot as plt\n",
    "import seaborn as sns\n"
   ]
  },
  {
   "cell_type": "code",
   "execution_count": 2,
   "metadata": {},
   "outputs": [],
   "source": [
    "#df0 =pd.read_csv('data/dataset.csv')\n",
    "#df0.head()"
   ]
  },
  {
   "cell_type": "code",
   "execution_count": 3,
   "metadata": {},
   "outputs": [],
   "source": [
    "column_list = []"
   ]
  },
  {
   "cell_type": "code",
   "execution_count": 4,
   "metadata": {},
   "outputs": [
    {
     "data": {
      "text/html": [
       "<div>\n",
       "<style scoped>\n",
       "    .dataframe tbody tr th:only-of-type {\n",
       "        vertical-align: middle;\n",
       "    }\n",
       "\n",
       "    .dataframe tbody tr th {\n",
       "        vertical-align: top;\n",
       "    }\n",
       "\n",
       "    .dataframe thead th {\n",
       "        text-align: right;\n",
       "    }\n",
       "</style>\n",
       "<table border=\"1\" class=\"dataframe\">\n",
       "  <thead>\n",
       "    <tr style=\"text-align: right;\">\n",
       "      <th></th>\n",
       "      <th>track_id</th>\n",
       "      <th>date</th>\n",
       "      <th>stream_daily</th>\n",
       "      <th>stream_total</th>\n",
       "      <th>artists_id</th>\n",
       "      <th>album_id</th>\n",
       "      <th>track_uri</th>\n",
       "      <th>track_name</th>\n",
       "    </tr>\n",
       "  </thead>\n",
       "  <tbody>\n",
       "    <tr>\n",
       "      <th>0</th>\n",
       "      <td>01qFKNWq73UfEslI0GvumE</td>\n",
       "      <td>2024-10-29</td>\n",
       "      <td>950196</td>\n",
       "      <td>695648000</td>\n",
       "      <td>6HaGTQPmzraVmaVxvz6EUc, 2LIk90788K0zvyj2JJVwkJ</td>\n",
       "      <td>0fJ0beklzFwoBv01U8792s</td>\n",
       "      <td>spotify:track:01qFKNWq73UfEslI0GvumE</td>\n",
       "      <td>3D (feat. Jack Harlow)</td>\n",
       "    </tr>\n",
       "    <tr>\n",
       "      <th>1</th>\n",
       "      <td>01qFKNWq73UfEslI0GvumE</td>\n",
       "      <td>2024-10-30</td>\n",
       "      <td>938226</td>\n",
       "      <td>696586226</td>\n",
       "      <td>6HaGTQPmzraVmaVxvz6EUc, 2LIk90788K0zvyj2JJVwkJ</td>\n",
       "      <td>0fJ0beklzFwoBv01U8792s</td>\n",
       "      <td>spotify:track:01qFKNWq73UfEslI0GvumE</td>\n",
       "      <td>3D (feat. Jack Harlow)</td>\n",
       "    </tr>\n",
       "    <tr>\n",
       "      <th>2</th>\n",
       "      <td>01qFKNWq73UfEslI0GvumE</td>\n",
       "      <td>2024-10-31</td>\n",
       "      <td>960124</td>\n",
       "      <td>697546350</td>\n",
       "      <td>6HaGTQPmzraVmaVxvz6EUc, 2LIk90788K0zvyj2JJVwkJ</td>\n",
       "      <td>0fJ0beklzFwoBv01U8792s</td>\n",
       "      <td>spotify:track:01qFKNWq73UfEslI0GvumE</td>\n",
       "      <td>3D (feat. Jack Harlow)</td>\n",
       "    </tr>\n",
       "    <tr>\n",
       "      <th>3</th>\n",
       "      <td>01qFKNWq73UfEslI0GvumE</td>\n",
       "      <td>2024-11-01</td>\n",
       "      <td>932066</td>\n",
       "      <td>698478416</td>\n",
       "      <td>6HaGTQPmzraVmaVxvz6EUc, 2LIk90788K0zvyj2JJVwkJ</td>\n",
       "      <td>0fJ0beklzFwoBv01U8792s</td>\n",
       "      <td>spotify:track:01qFKNWq73UfEslI0GvumE</td>\n",
       "      <td>3D (feat. Jack Harlow)</td>\n",
       "    </tr>\n",
       "    <tr>\n",
       "      <th>4</th>\n",
       "      <td>01qFKNWq73UfEslI0GvumE</td>\n",
       "      <td>2024-11-02</td>\n",
       "      <td>890119</td>\n",
       "      <td>699368535</td>\n",
       "      <td>6HaGTQPmzraVmaVxvz6EUc, 2LIk90788K0zvyj2JJVwkJ</td>\n",
       "      <td>0fJ0beklzFwoBv01U8792s</td>\n",
       "      <td>spotify:track:01qFKNWq73UfEslI0GvumE</td>\n",
       "      <td>3D (feat. Jack Harlow)</td>\n",
       "    </tr>\n",
       "  </tbody>\n",
       "</table>\n",
       "</div>"
      ],
      "text/plain": [
       "                 track_id        date  stream_daily  stream_total  \\\n",
       "0  01qFKNWq73UfEslI0GvumE  2024-10-29        950196     695648000   \n",
       "1  01qFKNWq73UfEslI0GvumE  2024-10-30        938226     696586226   \n",
       "2  01qFKNWq73UfEslI0GvumE  2024-10-31        960124     697546350   \n",
       "3  01qFKNWq73UfEslI0GvumE  2024-11-01        932066     698478416   \n",
       "4  01qFKNWq73UfEslI0GvumE  2024-11-02        890119     699368535   \n",
       "\n",
       "                                       artists_id                album_id  \\\n",
       "0  6HaGTQPmzraVmaVxvz6EUc, 2LIk90788K0zvyj2JJVwkJ  0fJ0beklzFwoBv01U8792s   \n",
       "1  6HaGTQPmzraVmaVxvz6EUc, 2LIk90788K0zvyj2JJVwkJ  0fJ0beklzFwoBv01U8792s   \n",
       "2  6HaGTQPmzraVmaVxvz6EUc, 2LIk90788K0zvyj2JJVwkJ  0fJ0beklzFwoBv01U8792s   \n",
       "3  6HaGTQPmzraVmaVxvz6EUc, 2LIk90788K0zvyj2JJVwkJ  0fJ0beklzFwoBv01U8792s   \n",
       "4  6HaGTQPmzraVmaVxvz6EUc, 2LIk90788K0zvyj2JJVwkJ  0fJ0beklzFwoBv01U8792s   \n",
       "\n",
       "                              track_uri              track_name  \n",
       "0  spotify:track:01qFKNWq73UfEslI0GvumE  3D (feat. Jack Harlow)  \n",
       "1  spotify:track:01qFKNWq73UfEslI0GvumE  3D (feat. Jack Harlow)  \n",
       "2  spotify:track:01qFKNWq73UfEslI0GvumE  3D (feat. Jack Harlow)  \n",
       "3  spotify:track:01qFKNWq73UfEslI0GvumE  3D (feat. Jack Harlow)  \n",
       "4  spotify:track:01qFKNWq73UfEslI0GvumE  3D (feat. Jack Harlow)  "
      ]
     },
     "execution_count": 4,
     "metadata": {},
     "output_type": "execute_result"
    }
   ],
   "source": [
    "df =pd.read_csv('data/tracks_stream.csv')\n",
    "df.head()"
   ]
  },
  {
   "cell_type": "code",
   "execution_count": 5,
   "metadata": {},
   "outputs": [
    {
     "data": {
      "text/plain": [
       "Index(['track_id', 'date', 'stream_daily', 'stream_total', 'artists_id',\n",
       "       'album_id', 'track_uri', 'track_name'],\n",
       "      dtype='object')"
      ]
     },
     "execution_count": 5,
     "metadata": {},
     "output_type": "execute_result"
    }
   ],
   "source": [
    "df.columns"
   ]
  },
  {
   "cell_type": "code",
   "execution_count": 6,
   "metadata": {},
   "outputs": [
    {
     "data": {
      "text/html": [
       "<div>\n",
       "<style scoped>\n",
       "    .dataframe tbody tr th:only-of-type {\n",
       "        vertical-align: middle;\n",
       "    }\n",
       "\n",
       "    .dataframe tbody tr th {\n",
       "        vertical-align: top;\n",
       "    }\n",
       "\n",
       "    .dataframe thead th {\n",
       "        text-align: right;\n",
       "    }\n",
       "</style>\n",
       "<table border=\"1\" class=\"dataframe\">\n",
       "  <thead>\n",
       "    <tr style=\"text-align: right;\">\n",
       "      <th></th>\n",
       "      <th>artist_id</th>\n",
       "      <th>artist_uri</th>\n",
       "      <th>artist_name</th>\n",
       "      <th>artist_genres</th>\n",
       "      <th>artist_popularity</th>\n",
       "      <th>artist_follower</th>\n",
       "      <th>artist_image_url</th>\n",
       "    </tr>\n",
       "  </thead>\n",
       "  <tbody>\n",
       "    <tr>\n",
       "      <th>0</th>\n",
       "      <td>027TpXKGwdXP7iwbjUSpV8</td>\n",
       "      <td>spotify:artist:027TpXKGwdXP7iwbjUSpV8</td>\n",
       "      <td>The Walters</td>\n",
       "      <td>['chicago indie', 'pov: indie']</td>\n",
       "      <td>73</td>\n",
       "      <td>823459</td>\n",
       "      <td>https://i.scdn.co/image/ab6761610000e5eb6c4366...</td>\n",
       "    </tr>\n",
       "    <tr>\n",
       "      <th>1</th>\n",
       "      <td>06HL4z0CvFAxyc27GXpf02</td>\n",
       "      <td>spotify:artist:06HL4z0CvFAxyc27GXpf02</td>\n",
       "      <td>Taylor Swift</td>\n",
       "      <td>['pop']</td>\n",
       "      <td>100</td>\n",
       "      <td>125121649</td>\n",
       "      <td>https://i.scdn.co/image/ab6761610000e5ebe672b5...</td>\n",
       "    </tr>\n",
       "    <tr>\n",
       "      <th>2</th>\n",
       "      <td>06QVnTCdjs4jPKO0487EGV</td>\n",
       "      <td>spotify:artist:06QVnTCdjs4jPKO0487EGV</td>\n",
       "      <td>Fiersa Besari</td>\n",
       "      <td>['bandung indie', 'indonesian folk pop', 'indo...</td>\n",
       "      <td>70</td>\n",
       "      <td>5244138</td>\n",
       "      <td>https://i.scdn.co/image/ab6761610000e5ebaf659f...</td>\n",
       "    </tr>\n",
       "    <tr>\n",
       "      <th>3</th>\n",
       "      <td>09Xydf4dlkr29dH99DmsvQ</td>\n",
       "      <td>spotify:artist:09Xydf4dlkr29dH99DmsvQ</td>\n",
       "      <td>Janine</td>\n",
       "      <td>['opm', 'pinoy singer-songwriter']</td>\n",
       "      <td>65</td>\n",
       "      <td>536593</td>\n",
       "      <td>https://i.scdn.co/image/ab6761610000e5eb624bad...</td>\n",
       "    </tr>\n",
       "    <tr>\n",
       "      <th>4</th>\n",
       "      <td>0CO1IZAPmgTbkfXvcRCLsL</td>\n",
       "      <td>spotify:artist:0CO1IZAPmgTbkfXvcRCLsL</td>\n",
       "      <td>BAN</td>\n",
       "      <td>[]</td>\n",
       "      <td>52</td>\n",
       "      <td>49057</td>\n",
       "      <td>https://i.scdn.co/image/ab67616d0000b273d2d38c...</td>\n",
       "    </tr>\n",
       "  </tbody>\n",
       "</table>\n",
       "</div>"
      ],
      "text/plain": [
       "                artist_id                             artist_uri  \\\n",
       "0  027TpXKGwdXP7iwbjUSpV8  spotify:artist:027TpXKGwdXP7iwbjUSpV8   \n",
       "1  06HL4z0CvFAxyc27GXpf02  spotify:artist:06HL4z0CvFAxyc27GXpf02   \n",
       "2  06QVnTCdjs4jPKO0487EGV  spotify:artist:06QVnTCdjs4jPKO0487EGV   \n",
       "3  09Xydf4dlkr29dH99DmsvQ  spotify:artist:09Xydf4dlkr29dH99DmsvQ   \n",
       "4  0CO1IZAPmgTbkfXvcRCLsL  spotify:artist:0CO1IZAPmgTbkfXvcRCLsL   \n",
       "\n",
       "     artist_name                                      artist_genres  \\\n",
       "0    The Walters                    ['chicago indie', 'pov: indie']   \n",
       "1   Taylor Swift                                            ['pop']   \n",
       "2  Fiersa Besari  ['bandung indie', 'indonesian folk pop', 'indo...   \n",
       "3         Janine                 ['opm', 'pinoy singer-songwriter']   \n",
       "4            BAN                                                 []   \n",
       "\n",
       "   artist_popularity  artist_follower  \\\n",
       "0                 73           823459   \n",
       "1                100        125121649   \n",
       "2                 70          5244138   \n",
       "3                 65           536593   \n",
       "4                 52            49057   \n",
       "\n",
       "                                    artist_image_url  \n",
       "0  https://i.scdn.co/image/ab6761610000e5eb6c4366...  \n",
       "1  https://i.scdn.co/image/ab6761610000e5ebe672b5...  \n",
       "2  https://i.scdn.co/image/ab6761610000e5ebaf659f...  \n",
       "3  https://i.scdn.co/image/ab6761610000e5eb624bad...  \n",
       "4  https://i.scdn.co/image/ab67616d0000b273d2d38c...  "
      ]
     },
     "execution_count": 6,
     "metadata": {},
     "output_type": "execute_result"
    }
   ],
   "source": [
    "df1 = pd.read_csv('data/artists.csv')\n",
    "df1.head()"
   ]
  },
  {
   "cell_type": "code",
   "execution_count": 7,
   "metadata": {},
   "outputs": [
    {
     "data": {
      "text/html": [
       "<div>\n",
       "<style scoped>\n",
       "    .dataframe tbody tr th:only-of-type {\n",
       "        vertical-align: middle;\n",
       "    }\n",
       "\n",
       "    .dataframe tbody tr th {\n",
       "        vertical-align: top;\n",
       "    }\n",
       "\n",
       "    .dataframe thead th {\n",
       "        text-align: right;\n",
       "    }\n",
       "</style>\n",
       "<table border=\"1\" class=\"dataframe\">\n",
       "  <thead>\n",
       "    <tr style=\"text-align: right;\">\n",
       "      <th></th>\n",
       "      <th>artists_id</th>\n",
       "      <th>album_id</th>\n",
       "      <th>track_id</th>\n",
       "      <th>track_uri</th>\n",
       "      <th>track_name</th>\n",
       "      <th>track_release_date</th>\n",
       "      <th>track_date_added</th>\n",
       "      <th>track_duration_ms</th>\n",
       "      <th>track_popularity</th>\n",
       "      <th>track_position</th>\n",
       "      <th>...</th>\n",
       "      <th>loudness</th>\n",
       "      <th>mode</th>\n",
       "      <th>speechiness</th>\n",
       "      <th>acousticness</th>\n",
       "      <th>instrumentalness</th>\n",
       "      <th>liveness</th>\n",
       "      <th>valence</th>\n",
       "      <th>tempo</th>\n",
       "      <th>duration_ms</th>\n",
       "      <th>time_signature</th>\n",
       "    </tr>\n",
       "  </thead>\n",
       "  <tbody>\n",
       "    <tr>\n",
       "      <th>0</th>\n",
       "      <td>3eVa5w3URK5duf6eyVDbu9, 0du5cEVh5yTK9QJze8zA0C</td>\n",
       "      <td>2IYQwwgxgOIn7t3iF6ufFD</td>\n",
       "      <td>5vNRhkKd0yEAg8suGBpjeY</td>\n",
       "      <td>spotify:track:5vNRhkKd0yEAg8suGBpjeY</td>\n",
       "      <td>APT.</td>\n",
       "      <td>2024-10-18</td>\n",
       "      <td>2024-11-04T12:32:31Z</td>\n",
       "      <td>169917</td>\n",
       "      <td>96</td>\n",
       "      <td>1</td>\n",
       "      <td>...</td>\n",
       "      <td>-4.477</td>\n",
       "      <td>0</td>\n",
       "      <td>0.2600</td>\n",
       "      <td>0.0283</td>\n",
       "      <td>0.0000</td>\n",
       "      <td>0.355</td>\n",
       "      <td>0.939</td>\n",
       "      <td>149.027</td>\n",
       "      <td>169917</td>\n",
       "      <td>4</td>\n",
       "    </tr>\n",
       "    <tr>\n",
       "      <th>1</th>\n",
       "      <td>1HY2Jd0NmPuamShAr6KMms, 0du5cEVh5yTK9QJze8zA0C</td>\n",
       "      <td>10FLjwfpbxLmW8c25Xyc2N</td>\n",
       "      <td>2plbrEY59IikOBgBGLjaoe</td>\n",
       "      <td>spotify:track:2plbrEY59IikOBgBGLjaoe</td>\n",
       "      <td>Die With A Smile</td>\n",
       "      <td>2024-08-16</td>\n",
       "      <td>2024-11-04T12:32:31Z</td>\n",
       "      <td>251667</td>\n",
       "      <td>100</td>\n",
       "      <td>2</td>\n",
       "      <td>...</td>\n",
       "      <td>-7.777</td>\n",
       "      <td>0</td>\n",
       "      <td>0.0304</td>\n",
       "      <td>0.3080</td>\n",
       "      <td>0.0000</td>\n",
       "      <td>0.122</td>\n",
       "      <td>0.535</td>\n",
       "      <td>157.969</td>\n",
       "      <td>251668</td>\n",
       "      <td>3</td>\n",
       "    </tr>\n",
       "    <tr>\n",
       "      <th>2</th>\n",
       "      <td>47z98pKd71yIbgXwe9LPVC</td>\n",
       "      <td>5K8xqV7MCe3UIfedVAlZSe</td>\n",
       "      <td>7zOVh5fGpEwSbZd0g9z80B</td>\n",
       "      <td>spotify:track:7zOVh5fGpEwSbZd0g9z80B</td>\n",
       "      <td>Satu Bulan</td>\n",
       "      <td>2023-06-22</td>\n",
       "      <td>2024-11-04T12:32:31Z</td>\n",
       "      <td>200476</td>\n",
       "      <td>84</td>\n",
       "      <td>3</td>\n",
       "      <td>...</td>\n",
       "      <td>-10.420</td>\n",
       "      <td>1</td>\n",
       "      <td>0.0392</td>\n",
       "      <td>0.9420</td>\n",
       "      <td>0.0498</td>\n",
       "      <td>0.118</td>\n",
       "      <td>0.244</td>\n",
       "      <td>85.744</td>\n",
       "      <td>200476</td>\n",
       "      <td>4</td>\n",
       "    </tr>\n",
       "    <tr>\n",
       "      <th>3</th>\n",
       "      <td>0f6TyESD8E1mD2oLJ4TGv1</td>\n",
       "      <td>6E4sl58YgjMqfUBNGOfAUa</td>\n",
       "      <td>0PtJbtW50jcvvswNPn3QGd</td>\n",
       "      <td>spotify:track:0PtJbtW50jcvvswNPn3QGd</td>\n",
       "      <td>Serana</td>\n",
       "      <td>2022-09-06</td>\n",
       "      <td>2024-11-04T12:32:31Z</td>\n",
       "      <td>250000</td>\n",
       "      <td>77</td>\n",
       "      <td>4</td>\n",
       "      <td>...</td>\n",
       "      <td>-5.403</td>\n",
       "      <td>1</td>\n",
       "      <td>0.0293</td>\n",
       "      <td>0.0624</td>\n",
       "      <td>0.3720</td>\n",
       "      <td>0.126</td>\n",
       "      <td>0.247</td>\n",
       "      <td>130.029</td>\n",
       "      <td>250000</td>\n",
       "      <td>4</td>\n",
       "    </tr>\n",
       "    <tr>\n",
       "      <th>4</th>\n",
       "      <td>5Plk4JdCzMxhAHSRTEsxJp, 1lg1jqQMMJQQFFMnkxn0zV</td>\n",
       "      <td>59ptvvKVVgt5Oo8R6uYDda</td>\n",
       "      <td>7BgFlmOxrL7M1jVGoxqy37</td>\n",
       "      <td>spotify:track:7BgFlmOxrL7M1jVGoxqy37</td>\n",
       "      <td>Masing Masing</td>\n",
       "      <td>2023-11-03</td>\n",
       "      <td>2024-11-04T12:32:31Z</td>\n",
       "      <td>234589</td>\n",
       "      <td>78</td>\n",
       "      <td>5</td>\n",
       "      <td>...</td>\n",
       "      <td>-5.352</td>\n",
       "      <td>1</td>\n",
       "      <td>0.0292</td>\n",
       "      <td>0.7200</td>\n",
       "      <td>0.0000</td>\n",
       "      <td>0.251</td>\n",
       "      <td>0.389</td>\n",
       "      <td>133.845</td>\n",
       "      <td>234590</td>\n",
       "      <td>4</td>\n",
       "    </tr>\n",
       "  </tbody>\n",
       "</table>\n",
       "<p>5 rows × 26 columns</p>\n",
       "</div>"
      ],
      "text/plain": [
       "                                       artists_id                album_id  \\\n",
       "0  3eVa5w3URK5duf6eyVDbu9, 0du5cEVh5yTK9QJze8zA0C  2IYQwwgxgOIn7t3iF6ufFD   \n",
       "1  1HY2Jd0NmPuamShAr6KMms, 0du5cEVh5yTK9QJze8zA0C  10FLjwfpbxLmW8c25Xyc2N   \n",
       "2                          47z98pKd71yIbgXwe9LPVC  5K8xqV7MCe3UIfedVAlZSe   \n",
       "3                          0f6TyESD8E1mD2oLJ4TGv1  6E4sl58YgjMqfUBNGOfAUa   \n",
       "4  5Plk4JdCzMxhAHSRTEsxJp, 1lg1jqQMMJQQFFMnkxn0zV  59ptvvKVVgt5Oo8R6uYDda   \n",
       "\n",
       "                 track_id                             track_uri  \\\n",
       "0  5vNRhkKd0yEAg8suGBpjeY  spotify:track:5vNRhkKd0yEAg8suGBpjeY   \n",
       "1  2plbrEY59IikOBgBGLjaoe  spotify:track:2plbrEY59IikOBgBGLjaoe   \n",
       "2  7zOVh5fGpEwSbZd0g9z80B  spotify:track:7zOVh5fGpEwSbZd0g9z80B   \n",
       "3  0PtJbtW50jcvvswNPn3QGd  spotify:track:0PtJbtW50jcvvswNPn3QGd   \n",
       "4  7BgFlmOxrL7M1jVGoxqy37  spotify:track:7BgFlmOxrL7M1jVGoxqy37   \n",
       "\n",
       "         track_name track_release_date      track_date_added  \\\n",
       "0              APT.         2024-10-18  2024-11-04T12:32:31Z   \n",
       "1  Die With A Smile         2024-08-16  2024-11-04T12:32:31Z   \n",
       "2        Satu Bulan         2023-06-22  2024-11-04T12:32:31Z   \n",
       "3            Serana         2022-09-06  2024-11-04T12:32:31Z   \n",
       "4     Masing Masing         2023-11-03  2024-11-04T12:32:31Z   \n",
       "\n",
       "   track_duration_ms  track_popularity  track_position  ...  loudness mode  \\\n",
       "0             169917                96               1  ...    -4.477    0   \n",
       "1             251667               100               2  ...    -7.777    0   \n",
       "2             200476                84               3  ...   -10.420    1   \n",
       "3             250000                77               4  ...    -5.403    1   \n",
       "4             234589                78               5  ...    -5.352    1   \n",
       "\n",
       "  speechiness  acousticness  instrumentalness  liveness  valence    tempo  \\\n",
       "0      0.2600        0.0283            0.0000     0.355    0.939  149.027   \n",
       "1      0.0304        0.3080            0.0000     0.122    0.535  157.969   \n",
       "2      0.0392        0.9420            0.0498     0.118    0.244   85.744   \n",
       "3      0.0293        0.0624            0.3720     0.126    0.247  130.029   \n",
       "4      0.0292        0.7200            0.0000     0.251    0.389  133.845   \n",
       "\n",
       "   duration_ms  time_signature  \n",
       "0       169917               4  \n",
       "1       251668               3  \n",
       "2       200476               4  \n",
       "3       250000               4  \n",
       "4       234590               4  \n",
       "\n",
       "[5 rows x 26 columns]"
      ]
     },
     "execution_count": 7,
     "metadata": {},
     "output_type": "execute_result"
    }
   ],
   "source": [
    "df2 = pd.read_csv('data/tracks_audio_feature.csv')\n",
    "df2.head()"
   ]
  },
  {
   "cell_type": "code",
   "execution_count": 8,
   "metadata": {},
   "outputs": [
    {
     "name": "stdout",
     "output_type": "stream",
     "text": [
      "(4973, 8)\n",
      "(251, 7)\n",
      "(5700, 26)\n"
     ]
    }
   ],
   "source": [
    "print(df.shape)\n",
    "print(df1.shape)\n",
    "print(df2.shape)"
   ]
  },
  {
   "cell_type": "code",
   "execution_count": 9,
   "metadata": {},
   "outputs": [
    {
     "data": {
      "text/plain": [
       "Index(['track_id', 'date', 'stream_daily', 'stream_total', 'artists_id',\n",
       "       'album_id', 'track_uri', 'track_name'],\n",
       "      dtype='object')"
      ]
     },
     "execution_count": 9,
     "metadata": {},
     "output_type": "execute_result"
    }
   ],
   "source": [
    "df.columns"
   ]
  },
  {
   "cell_type": "code",
   "execution_count": 10,
   "metadata": {},
   "outputs": [
    {
     "data": {
      "text/html": [
       "<div>\n",
       "<style scoped>\n",
       "    .dataframe tbody tr th:only-of-type {\n",
       "        vertical-align: middle;\n",
       "    }\n",
       "\n",
       "    .dataframe tbody tr th {\n",
       "        vertical-align: top;\n",
       "    }\n",
       "\n",
       "    .dataframe thead th {\n",
       "        text-align: right;\n",
       "    }\n",
       "</style>\n",
       "<table border=\"1\" class=\"dataframe\">\n",
       "  <thead>\n",
       "    <tr style=\"text-align: right;\">\n",
       "      <th></th>\n",
       "      <th>track_id_x</th>\n",
       "      <th>date_x</th>\n",
       "      <th>stream_daily</th>\n",
       "      <th>stream_total</th>\n",
       "      <th>artists_id</th>\n",
       "      <th>album_id_x</th>\n",
       "      <th>track_uri_x</th>\n",
       "      <th>track_name_x</th>\n",
       "      <th>artist_uri</th>\n",
       "      <th>artist_name</th>\n",
       "      <th>...</th>\n",
       "      <th>loudness</th>\n",
       "      <th>mode</th>\n",
       "      <th>speechiness</th>\n",
       "      <th>acousticness</th>\n",
       "      <th>instrumentalness</th>\n",
       "      <th>liveness</th>\n",
       "      <th>valence</th>\n",
       "      <th>tempo</th>\n",
       "      <th>duration_ms</th>\n",
       "      <th>time_signature</th>\n",
       "    </tr>\n",
       "  </thead>\n",
       "  <tbody>\n",
       "    <tr>\n",
       "      <th>0</th>\n",
       "      <td>02H58MSfVESkKyx4diDgu7</td>\n",
       "      <td>2024-10-30</td>\n",
       "      <td>353922</td>\n",
       "      <td>97840689</td>\n",
       "      <td>2auC28zjQyVTsiZKNgPRGs</td>\n",
       "      <td>512dQp7hBbDDurodCqSw5I</td>\n",
       "      <td>spotify:track:02H58MSfVESkKyx4diDgu7</td>\n",
       "      <td>LOST!</td>\n",
       "      <td>spotify:artist:2auC28zjQyVTsiZKNgPRGs</td>\n",
       "      <td>RM</td>\n",
       "      <td>...</td>\n",
       "      <td>-5.63</td>\n",
       "      <td>1</td>\n",
       "      <td>0.0557</td>\n",
       "      <td>0.216</td>\n",
       "      <td>0.000039</td>\n",
       "      <td>0.287</td>\n",
       "      <td>0.336</td>\n",
       "      <td>88.011</td>\n",
       "      <td>233013</td>\n",
       "      <td>4</td>\n",
       "    </tr>\n",
       "    <tr>\n",
       "      <th>1</th>\n",
       "      <td>02H58MSfVESkKyx4diDgu7</td>\n",
       "      <td>2024-10-31</td>\n",
       "      <td>351338</td>\n",
       "      <td>98192027</td>\n",
       "      <td>2auC28zjQyVTsiZKNgPRGs</td>\n",
       "      <td>512dQp7hBbDDurodCqSw5I</td>\n",
       "      <td>spotify:track:02H58MSfVESkKyx4diDgu7</td>\n",
       "      <td>LOST!</td>\n",
       "      <td>spotify:artist:2auC28zjQyVTsiZKNgPRGs</td>\n",
       "      <td>RM</td>\n",
       "      <td>...</td>\n",
       "      <td>-5.63</td>\n",
       "      <td>1</td>\n",
       "      <td>0.0557</td>\n",
       "      <td>0.216</td>\n",
       "      <td>0.000039</td>\n",
       "      <td>0.287</td>\n",
       "      <td>0.336</td>\n",
       "      <td>88.011</td>\n",
       "      <td>233013</td>\n",
       "      <td>4</td>\n",
       "    </tr>\n",
       "    <tr>\n",
       "      <th>2</th>\n",
       "      <td>02H58MSfVESkKyx4diDgu7</td>\n",
       "      <td>2024-11-01</td>\n",
       "      <td>345682</td>\n",
       "      <td>98537709</td>\n",
       "      <td>2auC28zjQyVTsiZKNgPRGs</td>\n",
       "      <td>512dQp7hBbDDurodCqSw5I</td>\n",
       "      <td>spotify:track:02H58MSfVESkKyx4diDgu7</td>\n",
       "      <td>LOST!</td>\n",
       "      <td>spotify:artist:2auC28zjQyVTsiZKNgPRGs</td>\n",
       "      <td>RM</td>\n",
       "      <td>...</td>\n",
       "      <td>-5.63</td>\n",
       "      <td>1</td>\n",
       "      <td>0.0557</td>\n",
       "      <td>0.216</td>\n",
       "      <td>0.000039</td>\n",
       "      <td>0.287</td>\n",
       "      <td>0.336</td>\n",
       "      <td>88.011</td>\n",
       "      <td>233013</td>\n",
       "      <td>4</td>\n",
       "    </tr>\n",
       "    <tr>\n",
       "      <th>3</th>\n",
       "      <td>02H58MSfVESkKyx4diDgu7</td>\n",
       "      <td>2024-11-02</td>\n",
       "      <td>317946</td>\n",
       "      <td>98855655</td>\n",
       "      <td>2auC28zjQyVTsiZKNgPRGs</td>\n",
       "      <td>512dQp7hBbDDurodCqSw5I</td>\n",
       "      <td>spotify:track:02H58MSfVESkKyx4diDgu7</td>\n",
       "      <td>LOST!</td>\n",
       "      <td>spotify:artist:2auC28zjQyVTsiZKNgPRGs</td>\n",
       "      <td>RM</td>\n",
       "      <td>...</td>\n",
       "      <td>-5.63</td>\n",
       "      <td>1</td>\n",
       "      <td>0.0557</td>\n",
       "      <td>0.216</td>\n",
       "      <td>0.000039</td>\n",
       "      <td>0.287</td>\n",
       "      <td>0.336</td>\n",
       "      <td>88.011</td>\n",
       "      <td>233013</td>\n",
       "      <td>4</td>\n",
       "    </tr>\n",
       "    <tr>\n",
       "      <th>4</th>\n",
       "      <td>02H58MSfVESkKyx4diDgu7</td>\n",
       "      <td>2024-11-03</td>\n",
       "      <td>324803</td>\n",
       "      <td>99180458</td>\n",
       "      <td>2auC28zjQyVTsiZKNgPRGs</td>\n",
       "      <td>512dQp7hBbDDurodCqSw5I</td>\n",
       "      <td>spotify:track:02H58MSfVESkKyx4diDgu7</td>\n",
       "      <td>LOST!</td>\n",
       "      <td>spotify:artist:2auC28zjQyVTsiZKNgPRGs</td>\n",
       "      <td>RM</td>\n",
       "      <td>...</td>\n",
       "      <td>-5.63</td>\n",
       "      <td>1</td>\n",
       "      <td>0.0557</td>\n",
       "      <td>0.216</td>\n",
       "      <td>0.000039</td>\n",
       "      <td>0.287</td>\n",
       "      <td>0.336</td>\n",
       "      <td>88.011</td>\n",
       "      <td>233013</td>\n",
       "      <td>4</td>\n",
       "    </tr>\n",
       "  </tbody>\n",
       "</table>\n",
       "<p>5 rows × 39 columns</p>\n",
       "</div>"
      ],
      "text/plain": [
       "               track_id_x      date_x  stream_daily  stream_total  \\\n",
       "0  02H58MSfVESkKyx4diDgu7  2024-10-30        353922      97840689   \n",
       "1  02H58MSfVESkKyx4diDgu7  2024-10-31        351338      98192027   \n",
       "2  02H58MSfVESkKyx4diDgu7  2024-11-01        345682      98537709   \n",
       "3  02H58MSfVESkKyx4diDgu7  2024-11-02        317946      98855655   \n",
       "4  02H58MSfVESkKyx4diDgu7  2024-11-03        324803      99180458   \n",
       "\n",
       "               artists_id              album_id_x  \\\n",
       "0  2auC28zjQyVTsiZKNgPRGs  512dQp7hBbDDurodCqSw5I   \n",
       "1  2auC28zjQyVTsiZKNgPRGs  512dQp7hBbDDurodCqSw5I   \n",
       "2  2auC28zjQyVTsiZKNgPRGs  512dQp7hBbDDurodCqSw5I   \n",
       "3  2auC28zjQyVTsiZKNgPRGs  512dQp7hBbDDurodCqSw5I   \n",
       "4  2auC28zjQyVTsiZKNgPRGs  512dQp7hBbDDurodCqSw5I   \n",
       "\n",
       "                            track_uri_x track_name_x  \\\n",
       "0  spotify:track:02H58MSfVESkKyx4diDgu7        LOST!   \n",
       "1  spotify:track:02H58MSfVESkKyx4diDgu7        LOST!   \n",
       "2  spotify:track:02H58MSfVESkKyx4diDgu7        LOST!   \n",
       "3  spotify:track:02H58MSfVESkKyx4diDgu7        LOST!   \n",
       "4  spotify:track:02H58MSfVESkKyx4diDgu7        LOST!   \n",
       "\n",
       "                              artist_uri artist_name  ... loudness  mode  \\\n",
       "0  spotify:artist:2auC28zjQyVTsiZKNgPRGs          RM  ...    -5.63     1   \n",
       "1  spotify:artist:2auC28zjQyVTsiZKNgPRGs          RM  ...    -5.63     1   \n",
       "2  spotify:artist:2auC28zjQyVTsiZKNgPRGs          RM  ...    -5.63     1   \n",
       "3  spotify:artist:2auC28zjQyVTsiZKNgPRGs          RM  ...    -5.63     1   \n",
       "4  spotify:artist:2auC28zjQyVTsiZKNgPRGs          RM  ...    -5.63     1   \n",
       "\n",
       "   speechiness acousticness instrumentalness liveness valence   tempo  \\\n",
       "0       0.0557        0.216         0.000039    0.287   0.336  88.011   \n",
       "1       0.0557        0.216         0.000039    0.287   0.336  88.011   \n",
       "2       0.0557        0.216         0.000039    0.287   0.336  88.011   \n",
       "3       0.0557        0.216         0.000039    0.287   0.336  88.011   \n",
       "4       0.0557        0.216         0.000039    0.287   0.336  88.011   \n",
       "\n",
       "  duration_ms time_signature  \n",
       "0      233013              4  \n",
       "1      233013              4  \n",
       "2      233013              4  \n",
       "3      233013              4  \n",
       "4      233013              4  \n",
       "\n",
       "[5 rows x 39 columns]"
      ]
     },
     "execution_count": 10,
     "metadata": {},
     "output_type": "execute_result"
    }
   ],
   "source": [
    "# Merge the dataframes\n",
    "df1 = df1.rename(columns={'artist_id':'artists_id'})\n",
    "# join the dataframes\n",
    "df0 = df.merge(df1, on='artists_id', how='inner')\n",
    "df0 = df0.merge(df2, on='artists_id', how='inner')\n",
    "df0.head()\n"
   ]
  },
  {
   "cell_type": "code",
   "execution_count": 11,
   "metadata": {},
   "outputs": [
    {
     "data": {
      "text/plain": [
       "Index(['track_id_x', 'date_x', 'stream_daily', 'stream_total', 'artists_id',\n",
       "       'album_id_x', 'track_uri_x', 'track_name_x', 'artist_uri',\n",
       "       'artist_name', 'artist_genres', 'artist_popularity', 'artist_follower',\n",
       "       'artist_image_url', 'album_id_y', 'track_id_y', 'track_uri_y',\n",
       "       'track_name_y', 'track_release_date', 'track_date_added',\n",
       "       'track_duration_ms', 'track_popularity', 'track_position',\n",
       "       'is_explicit', 'country', 'date_y', 'danceability', 'energy', 'key',\n",
       "       'loudness', 'mode', 'speechiness', 'acousticness', 'instrumentalness',\n",
       "       'liveness', 'valence', 'tempo', 'duration_ms', 'time_signature'],\n",
       "      dtype='object')"
      ]
     },
     "execution_count": 11,
     "metadata": {},
     "output_type": "execute_result"
    }
   ],
   "source": [
    "df0.columns"
   ]
  },
  {
   "cell_type": "code",
   "execution_count": 12,
   "metadata": {},
   "outputs": [
    {
     "data": {
      "text/plain": [
       "Index(['track_id', 'date', 'stream_daily', 'stream_total', 'artists_id',\n",
       "       'album_id', 'track_uri', 'track_name', 'artist_uri', 'artist_name',\n",
       "       'artist_genres', 'artist_popularity', 'artist_follower',\n",
       "       'artist_image_url', 'track_release_date', 'track_date_added',\n",
       "       'track_duration_ms', 'track_popularity', 'track_position',\n",
       "       'is_explicit', 'country', 'danceability', 'energy', 'key', 'loudness',\n",
       "       'mode', 'speechiness', 'acousticness', 'instrumentalness', 'liveness',\n",
       "       'valence', 'tempo', 'duration_ms', 'time_signature'],\n",
       "      dtype='object')"
      ]
     },
     "execution_count": 12,
     "metadata": {},
     "output_type": "execute_result"
    }
   ],
   "source": [
    "# xóa các cột có đuôi là _y\n",
    "df0 = df0[df0.columns.drop(list(df0.filter(regex='_y')))]\n",
    "# rename các cột có đuôi là _x thành ''\n",
    "df0.columns = df0.columns.str.replace('_x', '')\n",
    "df0.columns"
   ]
  },
  {
   "cell_type": "code",
   "execution_count": 13,
   "metadata": {},
   "outputs": [
    {
     "data": {
      "text/plain": [
       "(179406, 25)"
      ]
     },
     "execution_count": 13,
     "metadata": {},
     "output_type": "execute_result"
    }
   ],
   "source": [
    "df0 = df0.drop(columns=['track_uri', 'artist_uri', 'is_explicit', 'danceability', 'loudness', 'mode', 'speechiness', 'instrumentalness', 'liveness'], inplace=False)\n",
    "df0.shape"
   ]
  },
  {
   "cell_type": "code",
   "execution_count": 14,
   "metadata": {},
   "outputs": [],
   "source": [
    "df0.to_csv('data/group_data.csv', index=False)"
   ]
  },
  {
   "cell_type": "markdown",
   "metadata": {},
   "source": [
    "**Lưu ý: Code này chỉ 1 thành viên chạy 1 lần. Các thành viên khác chỉ cần download `clean_data.csv` về phân tích.**"
   ]
  },
  {
   "cell_type": "markdown",
   "metadata": {},
   "source": [
    "## 1. Tiền xử lý dữ liệu"
   ]
  },
  {
   "cell_type": "code",
   "execution_count": 15,
   "metadata": {},
   "outputs": [
    {
     "data": {
      "text/html": [
       "<div>\n",
       "<style scoped>\n",
       "    .dataframe tbody tr th:only-of-type {\n",
       "        vertical-align: middle;\n",
       "    }\n",
       "\n",
       "    .dataframe tbody tr th {\n",
       "        vertical-align: top;\n",
       "    }\n",
       "\n",
       "    .dataframe thead th {\n",
       "        text-align: right;\n",
       "    }\n",
       "</style>\n",
       "<table border=\"1\" class=\"dataframe\">\n",
       "  <thead>\n",
       "    <tr style=\"text-align: right;\">\n",
       "      <th></th>\n",
       "      <th>track_id</th>\n",
       "      <th>date</th>\n",
       "      <th>stream_daily</th>\n",
       "      <th>stream_total</th>\n",
       "      <th>artists_id</th>\n",
       "      <th>album_id</th>\n",
       "      <th>track_name</th>\n",
       "      <th>artist_name</th>\n",
       "      <th>artist_genres</th>\n",
       "      <th>artist_popularity</th>\n",
       "      <th>...</th>\n",
       "      <th>track_popularity</th>\n",
       "      <th>track_position</th>\n",
       "      <th>country</th>\n",
       "      <th>energy</th>\n",
       "      <th>key</th>\n",
       "      <th>acousticness</th>\n",
       "      <th>valence</th>\n",
       "      <th>tempo</th>\n",
       "      <th>duration_ms</th>\n",
       "      <th>time_signature</th>\n",
       "    </tr>\n",
       "  </thead>\n",
       "  <tbody>\n",
       "    <tr>\n",
       "      <th>0</th>\n",
       "      <td>02H58MSfVESkKyx4diDgu7</td>\n",
       "      <td>2024-10-30</td>\n",
       "      <td>353922</td>\n",
       "      <td>97840689</td>\n",
       "      <td>2auC28zjQyVTsiZKNgPRGs</td>\n",
       "      <td>512dQp7hBbDDurodCqSw5I</td>\n",
       "      <td>LOST!</td>\n",
       "      <td>RM</td>\n",
       "      <td>['k-rap']</td>\n",
       "      <td>77</td>\n",
       "      <td>...</td>\n",
       "      <td>77</td>\n",
       "      <td>50</td>\n",
       "      <td>Thailand</td>\n",
       "      <td>0.68</td>\n",
       "      <td>6</td>\n",
       "      <td>0.216</td>\n",
       "      <td>0.336</td>\n",
       "      <td>88.011</td>\n",
       "      <td>233013</td>\n",
       "      <td>4</td>\n",
       "    </tr>\n",
       "    <tr>\n",
       "      <th>1</th>\n",
       "      <td>02H58MSfVESkKyx4diDgu7</td>\n",
       "      <td>2024-10-31</td>\n",
       "      <td>351338</td>\n",
       "      <td>98192027</td>\n",
       "      <td>2auC28zjQyVTsiZKNgPRGs</td>\n",
       "      <td>512dQp7hBbDDurodCqSw5I</td>\n",
       "      <td>LOST!</td>\n",
       "      <td>RM</td>\n",
       "      <td>['k-rap']</td>\n",
       "      <td>77</td>\n",
       "      <td>...</td>\n",
       "      <td>77</td>\n",
       "      <td>50</td>\n",
       "      <td>Thailand</td>\n",
       "      <td>0.68</td>\n",
       "      <td>6</td>\n",
       "      <td>0.216</td>\n",
       "      <td>0.336</td>\n",
       "      <td>88.011</td>\n",
       "      <td>233013</td>\n",
       "      <td>4</td>\n",
       "    </tr>\n",
       "    <tr>\n",
       "      <th>2</th>\n",
       "      <td>02H58MSfVESkKyx4diDgu7</td>\n",
       "      <td>2024-11-01</td>\n",
       "      <td>345682</td>\n",
       "      <td>98537709</td>\n",
       "      <td>2auC28zjQyVTsiZKNgPRGs</td>\n",
       "      <td>512dQp7hBbDDurodCqSw5I</td>\n",
       "      <td>LOST!</td>\n",
       "      <td>RM</td>\n",
       "      <td>['k-rap']</td>\n",
       "      <td>77</td>\n",
       "      <td>...</td>\n",
       "      <td>77</td>\n",
       "      <td>50</td>\n",
       "      <td>Thailand</td>\n",
       "      <td>0.68</td>\n",
       "      <td>6</td>\n",
       "      <td>0.216</td>\n",
       "      <td>0.336</td>\n",
       "      <td>88.011</td>\n",
       "      <td>233013</td>\n",
       "      <td>4</td>\n",
       "    </tr>\n",
       "    <tr>\n",
       "      <th>3</th>\n",
       "      <td>02H58MSfVESkKyx4diDgu7</td>\n",
       "      <td>2024-11-02</td>\n",
       "      <td>317946</td>\n",
       "      <td>98855655</td>\n",
       "      <td>2auC28zjQyVTsiZKNgPRGs</td>\n",
       "      <td>512dQp7hBbDDurodCqSw5I</td>\n",
       "      <td>LOST!</td>\n",
       "      <td>RM</td>\n",
       "      <td>['k-rap']</td>\n",
       "      <td>77</td>\n",
       "      <td>...</td>\n",
       "      <td>77</td>\n",
       "      <td>50</td>\n",
       "      <td>Thailand</td>\n",
       "      <td>0.68</td>\n",
       "      <td>6</td>\n",
       "      <td>0.216</td>\n",
       "      <td>0.336</td>\n",
       "      <td>88.011</td>\n",
       "      <td>233013</td>\n",
       "      <td>4</td>\n",
       "    </tr>\n",
       "    <tr>\n",
       "      <th>4</th>\n",
       "      <td>02H58MSfVESkKyx4diDgu7</td>\n",
       "      <td>2024-11-03</td>\n",
       "      <td>324803</td>\n",
       "      <td>99180458</td>\n",
       "      <td>2auC28zjQyVTsiZKNgPRGs</td>\n",
       "      <td>512dQp7hBbDDurodCqSw5I</td>\n",
       "      <td>LOST!</td>\n",
       "      <td>RM</td>\n",
       "      <td>['k-rap']</td>\n",
       "      <td>77</td>\n",
       "      <td>...</td>\n",
       "      <td>77</td>\n",
       "      <td>50</td>\n",
       "      <td>Thailand</td>\n",
       "      <td>0.68</td>\n",
       "      <td>6</td>\n",
       "      <td>0.216</td>\n",
       "      <td>0.336</td>\n",
       "      <td>88.011</td>\n",
       "      <td>233013</td>\n",
       "      <td>4</td>\n",
       "    </tr>\n",
       "  </tbody>\n",
       "</table>\n",
       "<p>5 rows × 25 columns</p>\n",
       "</div>"
      ],
      "text/plain": [
       "                 track_id        date  stream_daily  stream_total  \\\n",
       "0  02H58MSfVESkKyx4diDgu7  2024-10-30        353922      97840689   \n",
       "1  02H58MSfVESkKyx4diDgu7  2024-10-31        351338      98192027   \n",
       "2  02H58MSfVESkKyx4diDgu7  2024-11-01        345682      98537709   \n",
       "3  02H58MSfVESkKyx4diDgu7  2024-11-02        317946      98855655   \n",
       "4  02H58MSfVESkKyx4diDgu7  2024-11-03        324803      99180458   \n",
       "\n",
       "               artists_id                album_id track_name artist_name  \\\n",
       "0  2auC28zjQyVTsiZKNgPRGs  512dQp7hBbDDurodCqSw5I      LOST!          RM   \n",
       "1  2auC28zjQyVTsiZKNgPRGs  512dQp7hBbDDurodCqSw5I      LOST!          RM   \n",
       "2  2auC28zjQyVTsiZKNgPRGs  512dQp7hBbDDurodCqSw5I      LOST!          RM   \n",
       "3  2auC28zjQyVTsiZKNgPRGs  512dQp7hBbDDurodCqSw5I      LOST!          RM   \n",
       "4  2auC28zjQyVTsiZKNgPRGs  512dQp7hBbDDurodCqSw5I      LOST!          RM   \n",
       "\n",
       "  artist_genres  artist_popularity  ...  track_popularity track_position  \\\n",
       "0     ['k-rap']                 77  ...                77             50   \n",
       "1     ['k-rap']                 77  ...                77             50   \n",
       "2     ['k-rap']                 77  ...                77             50   \n",
       "3     ['k-rap']                 77  ...                77             50   \n",
       "4     ['k-rap']                 77  ...                77             50   \n",
       "\n",
       "    country energy  key  acousticness  valence   tempo  duration_ms  \\\n",
       "0  Thailand   0.68    6         0.216    0.336  88.011       233013   \n",
       "1  Thailand   0.68    6         0.216    0.336  88.011       233013   \n",
       "2  Thailand   0.68    6         0.216    0.336  88.011       233013   \n",
       "3  Thailand   0.68    6         0.216    0.336  88.011       233013   \n",
       "4  Thailand   0.68    6         0.216    0.336  88.011       233013   \n",
       "\n",
       "   time_signature  \n",
       "0               4  \n",
       "1               4  \n",
       "2               4  \n",
       "3               4  \n",
       "4               4  \n",
       "\n",
       "[5 rows x 25 columns]"
      ]
     },
     "execution_count": 15,
     "metadata": {},
     "output_type": "execute_result"
    }
   ],
   "source": [
    "df = pd.read_csv('data/group_data.csv')\n",
    "df.head()"
   ]
  },
  {
   "cell_type": "code",
   "execution_count": 16,
   "metadata": {},
   "outputs": [
    {
     "data": {
      "text/plain": [
       "(179406, 25)"
      ]
     },
     "execution_count": 16,
     "metadata": {},
     "output_type": "execute_result"
    }
   ],
   "source": [
    "df.shape"
   ]
  },
  {
   "cell_type": "markdown",
   "metadata": {},
   "source": [
    "### 1.1. Xử lý dữ liệu thiếu"
   ]
  },
  {
   "cell_type": "code",
   "execution_count": 17,
   "metadata": {},
   "outputs": [
    {
     "data": {
      "text/plain": [
       "track_id              0\n",
       "date                  0\n",
       "stream_daily          0\n",
       "stream_total          0\n",
       "artists_id            0\n",
       "album_id              0\n",
       "track_name            0\n",
       "artist_name           0\n",
       "artist_genres         0\n",
       "artist_popularity     0\n",
       "artist_follower       0\n",
       "artist_image_url      0\n",
       "track_release_date    0\n",
       "track_date_added      0\n",
       "track_duration_ms     0\n",
       "track_popularity      0\n",
       "track_position        0\n",
       "country               0\n",
       "energy                0\n",
       "key                   0\n",
       "acousticness          0\n",
       "valence               0\n",
       "tempo                 0\n",
       "duration_ms           0\n",
       "time_signature        0\n",
       "dtype: int64"
      ]
     },
     "execution_count": 17,
     "metadata": {},
     "output_type": "execute_result"
    }
   ],
   "source": [
    "df.isnull().sum()"
   ]
  },
  {
   "cell_type": "markdown",
   "metadata": {},
   "source": [
    "Qua kiểm tra data không có dữ liệu thiếu trong quá trình thu thập."
   ]
  },
  {
   "cell_type": "markdown",
   "metadata": {},
   "source": [
    "### 1.2. Xử lý trùng lặp"
   ]
  },
  {
   "cell_type": "code",
   "execution_count": 18,
   "metadata": {},
   "outputs": [
    {
     "data": {
      "text/plain": [
       "34637"
      ]
     },
     "execution_count": 18,
     "metadata": {},
     "output_type": "execute_result"
    }
   ],
   "source": [
    "df.duplicated().sum()"
   ]
  },
  {
   "cell_type": "markdown",
   "metadata": {},
   "source": [
    "Qua kiểm tra dữ liệu có 34637 dòng bị trùng lặp. Những dòng này là những dòng bị lỗi trong quá trình thu thập dữ liệu. Nên nhóm quyết định xóa những dòng này."
   ]
  },
  {
   "cell_type": "code",
   "execution_count": 19,
   "metadata": {},
   "outputs": [
    {
     "data": {
      "text/plain": [
       "(144769, 25)"
      ]
     },
     "execution_count": 19,
     "metadata": {},
     "output_type": "execute_result"
    }
   ],
   "source": [
    "df = df.drop_duplicates()\n",
    "df.shape"
   ]
  },
  {
   "cell_type": "markdown",
   "metadata": {},
   "source": [
    "### 1.3. Xử lý dữ liệu ngoại lai"
   ]
  },
  {
   "cell_type": "code",
   "execution_count": 20,
   "metadata": {},
   "outputs": [],
   "source": [
    "numerical = df.select_dtypes(include=[np.number]).columns\n",
    "categorical = df.select_dtypes(include=[object]).columns "
   ]
  },
  {
   "cell_type": "code",
   "execution_count": 21,
   "metadata": {},
   "outputs": [
    {
     "data": {
      "image/png": "[encoded data removed]",
      "text/plain": [
       "<Figure size 2000x1000 with 1 Axes>"
      ]
     },
     "metadata": {},
     "output_type": "display_data"
    }
   ],
   "source": [
    "plt.figure(figsize=(20, 10))\n",
    "sns.boxplot(data=df[numerical])\n",
    "plt.xticks(rotation=90)\n",
    "plt.show()"
   ]
  },
  {
   "cell_type": "markdown",
   "metadata": {},
   "source": [
    "Qua biểu đồ ta thấy có một số dữ liệu ngoại lai ở cột `steam_count`. Nhóm quyết định xóa những dòng này."
   ]
  },
  {
   "cell_type": "code",
   "execution_count": 22,
   "metadata": {},
   "outputs": [
    {
     "data": {
      "text/plain": [
       "(125646, 25)"
      ]
     },
     "execution_count": 22,
     "metadata": {},
     "output_type": "execute_result"
    }
   ],
   "source": [
    "Q1 = df['stream_total'].quantile(0.25)\n",
    "Q3 = df['stream_total'].quantile(0.75)\n",
    "IQR = Q3 - Q1\n",
    "df = df[(df['stream_total'] >= Q1 - 1.5*IQR) & (df['stream_total'] <= Q3 + 1.5*IQR)]\n",
    "df.shape"
   ]
  },
  {
   "cell_type": "markdown",
   "metadata": {},
   "source": [
    "### 1.4. Định dạng các cột, thêm xóa cột "
   ]
  },
  {
   "cell_type": "code",
   "execution_count": 23,
   "metadata": {},
   "outputs": [
    {
     "data": {
      "text/plain": [
       "track_id               object\n",
       "date                   object\n",
       "stream_daily            int64\n",
       "stream_total            int64\n",
       "artists_id             object\n",
       "album_id               object\n",
       "track_name             object\n",
       "artist_name            object\n",
       "artist_genres          object\n",
       "artist_popularity       int64\n",
       "artist_follower         int64\n",
       "artist_image_url       object\n",
       "track_release_date     object\n",
       "track_date_added       object\n",
       "track_duration_ms       int64\n",
       "track_popularity        int64\n",
       "track_position          int64\n",
       "country                object\n",
       "energy                float64\n",
       "key                     int64\n",
       "acousticness          float64\n",
       "valence               float64\n",
       "tempo                 float64\n",
       "duration_ms             int64\n",
       "time_signature          int64\n",
       "dtype: object"
      ]
     },
     "execution_count": 23,
     "metadata": {},
     "output_type": "execute_result"
    }
   ],
   "source": [
    "df.dtypes"
   ]
  },
  {
   "cell_type": "code",
   "execution_count": 24,
   "metadata": {},
   "outputs": [],
   "source": [
    "# track_release_date chuyển sang kiểu datetime\n",
    "df['track_release_date'] = pd.to_datetime(df['track_release_date'])\n",
    "# Thêm cột year\n",
    "df['year'] = df['track_release_date'].dt.year\n",
    "# Thêm cột month\n",
    "df['month'] = df['track_release_date'].dt.month\n",
    "# Thêm cột day\n",
    "df['day'] = df['track_release_date'].dt.day"
   ]
  },
  {
   "cell_type": "code",
   "execution_count": 25,
   "metadata": {},
   "outputs": [],
   "source": [
    "# Thêm cột day_name với giá trị là tên của ngày trong tuần (Monday, Tuesday, ...)\n",
    "df['day_name'] = df['track_release_date'].dt.day_name()"
   ]
  },
  {
   "cell_type": "code",
   "execution_count": 26,
   "metadata": {},
   "outputs": [],
   "source": [
    "df.to_csv('data/clean_data.csv', index=False)"
   ]
  },
  {
   "cell_type": "markdown",
   "metadata": {},
   "source": [
    "## 2. Phân tích dữ liệu"
   ]
  },
  {
   "cell_type": "code",
   "execution_count": 27,
   "metadata": {},
   "outputs": [],
   "source": [
    "df = pd.read_csv('data/clean_data.csv')"
   ]
  },
  {
   "cell_type": "markdown",
   "metadata": {},
   "source": [
    "### 2.1. Phân bố dữ liệu từng cột "
   ]
  },
  {
   "cell_type": "markdown",
   "metadata": {},
   "source": [
    "#### 2.1.1. track_name"
   ]
  },
  {
   "cell_type": "code",
   "execution_count": 28,
   "metadata": {},
   "outputs": [
    {
     "data": {
      "image/png": "[encoded data removed]",
      "text/plain": [
       "<Figure size 1400x600 with 1 Axes>"
      ]
     },
     "metadata": {},
     "output_type": "display_data"
    }
   ],
   "source": [
    "# Top 10 bài hát được nghe nhiều nhất\n",
    "top_10 = df.groupby('track_name')['stream_total'].max().sort_values(ascending=False).head(10)\n",
    "top_10 = np.log(top_10)\n",
    "\n",
    "plt.figure(figsize=(14, 6))\n",
    "top_10.plot(kind='bar')\n",
    "plt.title('Top 10 tracks')\n",
    "plt.ylabel('Stream count')\n",
    "for index, value in enumerate(top_10):\n",
    "    plt.text(index, value, str(round(np.exp(value), 2)), ha = 'center')\n",
    "plt.show()"
   ]
  },
  {
   "cell_type": "markdown",
   "metadata": {},
   "source": [
    "Nhận xét: \n"
   ]
  },
  {
   "cell_type": "code",
   "execution_count": 29,
   "metadata": {},
   "outputs": [
    {
     "data": {
      "image/png": "[encoded data removed]",
      "text/plain": [
       "<Figure size 1400x600 with 1 Axes>"
      ]
     },
     "metadata": {},
     "output_type": "display_data"
    }
   ],
   "source": [
    "# Top 10 nghệ sĩ được nghe nhiều nhất\n",
    "top_10 = df.groupby('artist_name')['stream_total'].max().sort_values(ascending=False).head(10)\n",
    "top_10 = np.log(top_10)\n",
    "\n",
    "plt.figure(figsize=(14, 6))\n",
    "top_10.plot(kind='barh')\n",
    "plt.title('Top 10 artists')\n",
    "plt.ylabel('Stream count')\n",
    "for index, value in enumerate(top_10):\n",
    "    plt.text(value, index, str(round(np.exp(value), 2)), va = 'center')\n",
    "plt.show()"
   ]
  },
  {
   "cell_type": "code",
   "execution_count": null,
   "metadata": {},
   "outputs": [],
   "source": []
  },
  {
   "cell_type": "code",
   "execution_count": 30,
   "metadata": {},
   "outputs": [
    {
     "data": {
      "image/png": "[encoded data removed]",
      "text/plain": [
       "<Figure size 1000x600 with 1 Axes>"
      ]
     },
     "metadata": {},
     "output_type": "display_data"
    },
    {
     "name": "stdout",
     "output_type": "stream",
     "text": [
      "Điểm bùng nổ: 2024-08-23, Lượt nghe: 10883527157584\n"
     ]
    }
   ],
   "source": [
    "df['track_release_date'] = pd.to_datetime(df['track_release_date'])\n",
    "\n",
    "# Loại bỏ các dòng trùng lặp\n",
    "df = df.drop_duplicates()\n",
    "\n",
    "# Tính tổng lượt nghe theo ngày\n",
    "daily_streams = df.groupby('track_release_date')['stream_total'].sum()\n",
    "\n",
    "# Xác định ngày có lượt nghe cao nhất\n",
    "peak_date = daily_streams.idxmax()\n",
    "peak_streams = daily_streams.max()\n",
    "\n",
    "# Vẽ biểu đồ xu hướng lượt nghe\n",
    "plt.figure(figsize=(10, 6))\n",
    "plt.plot(daily_streams.index, daily_streams.values, marker='o', linestyle='-', color='b')\n",
    "plt.title(\"Lượt nghe theo thời gian\", fontsize=16)\n",
    "plt.xlabel(\"Ngày phát hành\", fontsize=12)\n",
    "plt.ylabel(\"Lượt nghe\", fontsize=12)\n",
    "plt.axvline(peak_date, color='r', linestyle='--', label=f\"Điểm bùng nổ: {peak_date.date()}\")\n",
    "plt.legend()\n",
    "plt.grid()\n",
    "plt.show()\n",
    "\n",
    "# Kết quả\n",
    "print(f\"Điểm bùng nổ: {peak_date.date()}, Lượt nghe: {peak_streams}\")"
   ]
  },
  {
   "cell_type": "code",
   "execution_count": 31,
   "metadata": {},
   "outputs": [
    {
     "data": {
      "text/plain": [
       "array(['Thailand', 'Philippines', 'Indonesia', 'Malaysia', 'Singapore',\n",
       "       'Vietnam'], dtype=object)"
      ]
     },
     "execution_count": 31,
     "metadata": {},
     "output_type": "execute_result"
    }
   ],
   "source": [
    "df['country'].unique()"
   ]
  },
  {
   "cell_type": "code",
   "execution_count": 32,
   "metadata": {},
   "outputs": [
    {
     "data": {
      "text/html": [
       "<div>\n",
       "<style scoped>\n",
       "    .dataframe tbody tr th:only-of-type {\n",
       "        vertical-align: middle;\n",
       "    }\n",
       "\n",
       "    .dataframe tbody tr th {\n",
       "        vertical-align: top;\n",
       "    }\n",
       "\n",
       "    .dataframe thead th {\n",
       "        text-align: right;\n",
       "    }\n",
       "</style>\n",
       "<table border=\"1\" class=\"dataframe\">\n",
       "  <thead>\n",
       "    <tr style=\"text-align: right;\">\n",
       "      <th></th>\n",
       "      <th>track_name</th>\n",
       "      <th>country</th>\n",
       "      <th>track_duration_ms</th>\n",
       "      <th>stream_total</th>\n",
       "      <th>artist_name</th>\n",
       "    </tr>\n",
       "  </thead>\n",
       "  <tbody>\n",
       "    <tr>\n",
       "      <th>40959</th>\n",
       "      <td>Bed Chem</td>\n",
       "      <td>Malaysia</td>\n",
       "      <td>175459</td>\n",
       "      <td>244476387</td>\n",
       "      <td>Sabrina Carpenter</td>\n",
       "    </tr>\n",
       "    <tr>\n",
       "      <th>40960</th>\n",
       "      <td>Bed Chem</td>\n",
       "      <td>Malaysia</td>\n",
       "      <td>157279</td>\n",
       "      <td>244476387</td>\n",
       "      <td>Sabrina Carpenter</td>\n",
       "    </tr>\n",
       "    <tr>\n",
       "      <th>40961</th>\n",
       "      <td>Bed Chem</td>\n",
       "      <td>Malaysia</td>\n",
       "      <td>186365</td>\n",
       "      <td>244476387</td>\n",
       "      <td>Sabrina Carpenter</td>\n",
       "    </tr>\n",
       "    <tr>\n",
       "      <th>40962</th>\n",
       "      <td>Bed Chem</td>\n",
       "      <td>Philippines</td>\n",
       "      <td>157279</td>\n",
       "      <td>244476387</td>\n",
       "      <td>Sabrina Carpenter</td>\n",
       "    </tr>\n",
       "    <tr>\n",
       "      <th>40963</th>\n",
       "      <td>Bed Chem</td>\n",
       "      <td>Philippines</td>\n",
       "      <td>171869</td>\n",
       "      <td>244476387</td>\n",
       "      <td>Sabrina Carpenter</td>\n",
       "    </tr>\n",
       "    <tr>\n",
       "      <th>...</th>\n",
       "      <td>...</td>\n",
       "      <td>...</td>\n",
       "      <td>...</td>\n",
       "      <td>...</td>\n",
       "      <td>...</td>\n",
       "    </tr>\n",
       "    <tr>\n",
       "      <th>61786</th>\n",
       "      <td>Nonsense</td>\n",
       "      <td>Singapore</td>\n",
       "      <td>175459</td>\n",
       "      <td>1091170631</td>\n",
       "      <td>Sabrina Carpenter</td>\n",
       "    </tr>\n",
       "    <tr>\n",
       "      <th>61787</th>\n",
       "      <td>Nonsense</td>\n",
       "      <td>Singapore</td>\n",
       "      <td>186365</td>\n",
       "      <td>1091170631</td>\n",
       "      <td>Sabrina Carpenter</td>\n",
       "    </tr>\n",
       "    <tr>\n",
       "      <th>61788</th>\n",
       "      <td>Nonsense</td>\n",
       "      <td>Singapore</td>\n",
       "      <td>171869</td>\n",
       "      <td>1091170631</td>\n",
       "      <td>Sabrina Carpenter</td>\n",
       "    </tr>\n",
       "    <tr>\n",
       "      <th>61790</th>\n",
       "      <td>Nonsense</td>\n",
       "      <td>Singapore</td>\n",
       "      <td>223192</td>\n",
       "      <td>1091170631</td>\n",
       "      <td>Sabrina Carpenter</td>\n",
       "    </tr>\n",
       "    <tr>\n",
       "      <th>61791</th>\n",
       "      <td>Nonsense</td>\n",
       "      <td>Thailand</td>\n",
       "      <td>175459</td>\n",
       "      <td>1091170631</td>\n",
       "      <td>Sabrina Carpenter</td>\n",
       "    </tr>\n",
       "  </tbody>\n",
       "</table>\n",
       "<p>1378 rows × 5 columns</p>\n",
       "</div>"
      ],
      "text/plain": [
       "      track_name      country  track_duration_ms  stream_total  \\\n",
       "40959   Bed Chem     Malaysia             175459     244476387   \n",
       "40960   Bed Chem     Malaysia             157279     244476387   \n",
       "40961   Bed Chem     Malaysia             186365     244476387   \n",
       "40962   Bed Chem  Philippines             157279     244476387   \n",
       "40963   Bed Chem  Philippines             171869     244476387   \n",
       "...          ...          ...                ...           ...   \n",
       "61786   Nonsense    Singapore             175459    1091170631   \n",
       "61787   Nonsense    Singapore             186365    1091170631   \n",
       "61788   Nonsense    Singapore             171869    1091170631   \n",
       "61790   Nonsense    Singapore             223192    1091170631   \n",
       "61791   Nonsense     Thailand             175459    1091170631   \n",
       "\n",
       "             artist_name  \n",
       "40959  Sabrina Carpenter  \n",
       "40960  Sabrina Carpenter  \n",
       "40961  Sabrina Carpenter  \n",
       "40962  Sabrina Carpenter  \n",
       "40963  Sabrina Carpenter  \n",
       "...                  ...  \n",
       "61786  Sabrina Carpenter  \n",
       "61787  Sabrina Carpenter  \n",
       "61788  Sabrina Carpenter  \n",
       "61790  Sabrina Carpenter  \n",
       "61791  Sabrina Carpenter  \n",
       "\n",
       "[1378 rows x 5 columns]"
      ]
     },
     "execution_count": 32,
     "metadata": {},
     "output_type": "execute_result"
    }
   ],
   "source": [
    "tf = df[df['track_release_date'] == pd.Timestamp('2024-08-23')]\n",
    "\n",
    "# Lấy theo track_name, country, trak_duration_ms, stream_total, artist_name\n",
    "tf[['track_name', 'country', 'track_duration_ms', 'stream_total', 'artist_name']].drop_duplicates()"
   ]
  },
  {
   "cell_type": "code",
   "execution_count": null,
   "metadata": {},
   "outputs": [],
   "source": []
  },
  {
   "cell_type": "code",
   "execution_count": 33,
   "metadata": {},
   "outputs": [
    {
     "name": "stdout",
     "output_type": "stream",
     "text": [
      "track_name      Here With Me\n",
      "stream_total      1199464188\n",
      "Name: 118708, dtype: object\n"
     ]
    }
   ],
   "source": [
    "max_stream_song = df.loc[df['stream_total'].idxmax()]\n",
    "print(max_stream_song[['track_name', 'stream_total']])"
   ]
  },
  {
   "cell_type": "code",
   "execution_count": 34,
   "metadata": {},
   "outputs": [
    {
     "data": {
      "text/html": [
       "<div>\n",
       "<style scoped>\n",
       "    .dataframe tbody tr th:only-of-type {\n",
       "        vertical-align: middle;\n",
       "    }\n",
       "\n",
       "    .dataframe tbody tr th {\n",
       "        vertical-align: top;\n",
       "    }\n",
       "\n",
       "    .dataframe thead th {\n",
       "        text-align: right;\n",
       "    }\n",
       "</style>\n",
       "<table border=\"1\" class=\"dataframe\">\n",
       "  <thead>\n",
       "    <tr style=\"text-align: right;\">\n",
       "      <th></th>\n",
       "      <th>track_release_date</th>\n",
       "      <th>track_name</th>\n",
       "      <th>stream_total</th>\n",
       "      <th>artist_name</th>\n",
       "    </tr>\n",
       "  </thead>\n",
       "  <tbody>\n",
       "    <tr>\n",
       "      <th>120790</th>\n",
       "      <td>2000-03-21</td>\n",
       "      <td>Bye Bye Bye - From Deadpool and Wolverine Soun...</td>\n",
       "      <td>863579127</td>\n",
       "      <td>*NSYNC</td>\n",
       "    </tr>\n",
       "    <tr>\n",
       "      <th>105564</th>\n",
       "      <td>2001-01-01</td>\n",
       "      <td>Randomantic</td>\n",
       "      <td>42946720</td>\n",
       "      <td>James Reid</td>\n",
       "    </tr>\n",
       "    <tr>\n",
       "      <th>27261</th>\n",
       "      <td>2004-08-03</td>\n",
       "      <td>擱淺</td>\n",
       "      <td>87670858</td>\n",
       "      <td>Jay Chou</td>\n",
       "    </tr>\n",
       "    <tr>\n",
       "      <th>5842</th>\n",
       "      <td>2005-03-24</td>\n",
       "      <td>Hanggang Kailan - Umuwi Ka Na Baby</td>\n",
       "      <td>184842472</td>\n",
       "      <td>Orange &amp; Lemons</td>\n",
       "    </tr>\n",
       "    <tr>\n",
       "      <th>105890</th>\n",
       "      <td>2008-07-14</td>\n",
       "      <td>The Man Who Can't Be Moved</td>\n",
       "      <td>785546159</td>\n",
       "      <td>The Script</td>\n",
       "    </tr>\n",
       "    <tr>\n",
       "      <th>...</th>\n",
       "      <td>...</td>\n",
       "      <td>...</td>\n",
       "      <td>...</td>\n",
       "      <td>...</td>\n",
       "    </tr>\n",
       "    <tr>\n",
       "      <th>1978</th>\n",
       "      <td>2024-11-08</td>\n",
       "      <td>Musika</td>\n",
       "      <td>112260206</td>\n",
       "      <td>Dionela</td>\n",
       "    </tr>\n",
       "    <tr>\n",
       "      <th>82394</th>\n",
       "      <td>2024-11-11</td>\n",
       "      <td>ดาวหางฮัลเลย์</td>\n",
       "      <td>58800142</td>\n",
       "      <td>fellow fellow</td>\n",
       "    </tr>\n",
       "    <tr>\n",
       "      <th>67209</th>\n",
       "      <td>2024-11-14</td>\n",
       "      <td>It's ok I'm ok</td>\n",
       "      <td>113471338</td>\n",
       "      <td>Tate McRae</td>\n",
       "    </tr>\n",
       "    <tr>\n",
       "      <th>29657</th>\n",
       "      <td>2024-11-15</td>\n",
       "      <td>The Astronaut</td>\n",
       "      <td>547656617</td>\n",
       "      <td>Jin</td>\n",
       "    </tr>\n",
       "    <tr>\n",
       "      <th>29706</th>\n",
       "      <td>2024-11-19</td>\n",
       "      <td>The Astronaut</td>\n",
       "      <td>547656617</td>\n",
       "      <td>Jin</td>\n",
       "    </tr>\n",
       "  </tbody>\n",
       "</table>\n",
       "<p>146 rows × 4 columns</p>\n",
       "</div>"
      ],
      "text/plain": [
       "       track_release_date                                         track_name  \\\n",
       "120790         2000-03-21  Bye Bye Bye - From Deadpool and Wolverine Soun...   \n",
       "105564         2001-01-01                                        Randomantic   \n",
       "27261          2004-08-03                                                 擱淺   \n",
       "5842           2005-03-24                 Hanggang Kailan - Umuwi Ka Na Baby   \n",
       "105890         2008-07-14                         The Man Who Can't Be Moved   \n",
       "...                   ...                                                ...   \n",
       "1978           2024-11-08                                             Musika   \n",
       "82394          2024-11-11                                      ดาวหางฮัลเลย์   \n",
       "67209          2024-11-14                                     It's ok I'm ok   \n",
       "29657          2024-11-15                                      The Astronaut   \n",
       "29706          2024-11-19                                      The Astronaut   \n",
       "\n",
       "        stream_total      artist_name  \n",
       "120790     863579127           *NSYNC  \n",
       "105564      42946720       James Reid  \n",
       "27261       87670858         Jay Chou  \n",
       "5842       184842472  Orange & Lemons  \n",
       "105890     785546159       The Script  \n",
       "...              ...              ...  \n",
       "1978       112260206          Dionela  \n",
       "82394       58800142    fellow fellow  \n",
       "67209      113471338       Tate McRae  \n",
       "29657      547656617              Jin  \n",
       "29706      547656617              Jin  \n",
       "\n",
       "[146 rows x 4 columns]"
      ]
     },
     "execution_count": 34,
     "metadata": {},
     "output_type": "execute_result"
    }
   ],
   "source": [
    "# Group by track_release_date and find the song with the maximum stream count for each day\n",
    "max_stream_per_day = df.loc[df.groupby('track_release_date')['stream_total'].idxmax()]\n",
    "\n",
    "# Display the result\n",
    "max_stream_per_day[['track_release_date', 'track_name', 'stream_total', 'artist_name']]"
   ]
  },
  {
   "cell_type": "code",
   "execution_count": 35,
   "metadata": {},
   "outputs": [
    {
     "name": "stdout",
     "output_type": "stream",
     "text": [
      "artist_name\n",
      "Bernadya             6\n",
      "Jin                  6\n",
      "Sabrina Carpenter    5\n",
      "Insomniacks          4\n",
      "fellow fellow        3\n",
      "Dionela              3\n",
      "V                    3\n",
      "HIEUTHUHAI           3\n",
      "Hindia               3\n",
      "Maki                 3\n",
      "Name: track_name, dtype: int64\n"
     ]
    }
   ],
   "source": [
    "# Group by artist_name and count the number of songs for each artist\n",
    "artist_song_count = df.groupby('artist_name')['track_name'].nunique()\n",
    "\n",
    "# Filter artists with at least 2 songs in the top charts\n",
    "top_artists = artist_song_count[artist_song_count >= 2].sort_values(ascending=False).head(10)\n",
    "\n",
    "# Display the result\n",
    "print(top_artists)"
   ]
  },
  {
   "cell_type": "code",
   "execution_count": 36,
   "metadata": {},
   "outputs": [
    {
     "data": {
      "image/png": "[encoded data removed]",
      "text/plain": [
       "<Figure size 1400x600 with 1 Axes>"
      ]
     },
     "metadata": {},
     "output_type": "display_data"
    }
   ],
   "source": [
    "# Top bài hát được nghe nhiều nhất\n",
    "top_10 = df.groupby('track_name')['stream_total'].max().sort_values(ascending=False).head(10)\n",
    "top_10 = np.log(top_10)\n",
    "\n",
    "plt.figure(figsize=(14, 6))\n",
    "top_10.plot(kind='bar')\n",
    "plt.title('Top 10 tracks')\n",
    "plt.ylabel('Stream count')\n",
    "for index, value in enumerate(top_10):\n",
    "    plt.text(index, value, str(round(np.exp(value), 2)), ha = 'center')\n",
    "plt.show()"
   ]
  },
  {
   "cell_type": "code",
   "execution_count": 37,
   "metadata": {},
   "outputs": [
    {
     "data": {
      "image/png": "[encoded data removed]",
      "text/plain": [
       "<Figure size 1400x600 with 1 Axes>"
      ]
     },
     "metadata": {},
     "output_type": "display_data"
    }
   ],
   "source": [
    "# stream_total theo ngày của top 10 bài hát được nghe nhiều nhất\n",
    "top_10_songs = top_10.index\n",
    "top_10_daily_streams = df[df['track_name'].isin(top_10_songs)].groupby(['track_release_date', 'track_name'])['stream_total'].sum().unstack()\n",
    "\n",
    "plt.figure(figsize=(14, 6))\n",
    "top_10_daily_streams.plot(kind='line', marker='o', ax=plt.gca())\n",
    "plt.title('Top 10 tracks daily streams')\n",
    "plt.ylabel('Stream count')\n",
    "plt.grid()\n",
    "plt.show()\n"
   ]
  },
  {
   "cell_type": "code",
   "execution_count": 38,
   "metadata": {},
   "outputs": [
    {
     "data": {
      "image/png": "[encoded data removed]",
      "text/plain": [
       "<Figure size 1400x600 with 1 Axes>"
      ]
     },
     "metadata": {},
     "output_type": "display_data"
    }
   ],
   "source": [
    "# tuổi của top 10 bài hát được nghe nhiều nhất (\"Tuổi = 2024 - năm phát hành\")\n",
    "top_10_songs = top_10.index\n",
    "top_10_age = df[df['track_name'].isin(top_10_songs)].groupby('track_name')['year'].max()\n",
    "top_10_age = 2024 - top_10_age\n",
    "\n",
    "plt.figure(figsize=(14, 6))\n",
    "top_10_age.plot(kind='bar')\n",
    "plt.title('Top 10 tracks age')\n",
    "plt.ylabel('Age')\n",
    "plt.grid()\n",
    "plt.show()\n",
    "\n"
   ]
  },
  {
   "cell_type": "code",
   "execution_count": 39,
   "metadata": {},
   "outputs": [
    {
     "data": {
      "image/png": "[encoded data removed]",
      "text/plain": [
       "<Figure size 1400x600 with 1 Axes>"
      ]
     },
     "metadata": {},
     "output_type": "display_data"
    }
   ],
   "source": [
    "# Những bài hát dưới 5 tuổi được nghe nhiều nhất\n",
    "top_10_songs = top_10_age[top_10_age < 5].index\n",
    "top_10_songs_streams = df[df['track_name'].isin(top_10_songs)].groupby('track_name')['stream_total'].sum().sort_values(ascending=False).head(10)\n",
    "top_10_songs_streams = np.log(top_10_songs_streams)\n",
    "\n",
    "plt.figure(figsize=(14, 6))\n",
    "top_10_songs_streams.plot(kind='bar')\n",
    "plt.title('Top 10 tracks under 5 years old')\n",
    "plt.ylabel('Stream count')\n",
    "for index, value in enumerate(top_10_songs_streams):\n",
    "    plt.text(index, value, str(round(np.exp(value), 2)), ha = 'center')\n",
    "plt.show()\n"
   ]
  },
  {
   "cell_type": "code",
   "execution_count": 40,
   "metadata": {},
   "outputs": [
    {
     "data": {
      "text/html": [
       "<div>\n",
       "<style scoped>\n",
       "    .dataframe tbody tr th:only-of-type {\n",
       "        vertical-align: middle;\n",
       "    }\n",
       "\n",
       "    .dataframe tbody tr th {\n",
       "        vertical-align: top;\n",
       "    }\n",
       "\n",
       "    .dataframe thead th {\n",
       "        text-align: right;\n",
       "    }\n",
       "</style>\n",
       "<table border=\"1\" class=\"dataframe\">\n",
       "  <thead>\n",
       "    <tr style=\"text-align: right;\">\n",
       "      <th></th>\n",
       "      <th>year</th>\n",
       "      <th>track_name</th>\n",
       "      <th>stream_total</th>\n",
       "    </tr>\n",
       "  </thead>\n",
       "  <tbody>\n",
       "    <tr>\n",
       "      <th>120790</th>\n",
       "      <td>2000</td>\n",
       "      <td>Bye Bye Bye - From Deadpool and Wolverine Soun...</td>\n",
       "      <td>863579127</td>\n",
       "    </tr>\n",
       "    <tr>\n",
       "      <th>105564</th>\n",
       "      <td>2001</td>\n",
       "      <td>Randomantic</td>\n",
       "      <td>42946720</td>\n",
       "    </tr>\n",
       "    <tr>\n",
       "      <th>27261</th>\n",
       "      <td>2004</td>\n",
       "      <td>擱淺</td>\n",
       "      <td>87670858</td>\n",
       "    </tr>\n",
       "    <tr>\n",
       "      <th>5842</th>\n",
       "      <td>2005</td>\n",
       "      <td>Hanggang Kailan - Umuwi Ka Na Baby</td>\n",
       "      <td>184842472</td>\n",
       "    </tr>\n",
       "    <tr>\n",
       "      <th>105890</th>\n",
       "      <td>2008</td>\n",
       "      <td>The Man Who Can't Be Moved</td>\n",
       "      <td>785546159</td>\n",
       "    </tr>\n",
       "    <tr>\n",
       "      <th>119009</th>\n",
       "      <td>2011</td>\n",
       "      <td>Seandainya</td>\n",
       "      <td>276873555</td>\n",
       "    </tr>\n",
       "    <tr>\n",
       "      <th>2952</th>\n",
       "      <td>2012</td>\n",
       "      <td>Tadhana</td>\n",
       "      <td>344667628</td>\n",
       "    </tr>\n",
       "    <tr>\n",
       "      <th>119276</th>\n",
       "      <td>2013</td>\n",
       "      <td>No. 1 Party Anthem</td>\n",
       "      <td>290160468</td>\n",
       "    </tr>\n",
       "    <tr>\n",
       "      <th>28691</th>\n",
       "      <td>2014</td>\n",
       "      <td>Duka</td>\n",
       "      <td>396320089</td>\n",
       "    </tr>\n",
       "    <tr>\n",
       "      <th>105358</th>\n",
       "      <td>2015</td>\n",
       "      <td>The Night We Met</td>\n",
       "      <td>10312</td>\n",
       "    </tr>\n",
       "    <tr>\n",
       "      <th>28690</th>\n",
       "      <td>2016</td>\n",
       "      <td>Duka</td>\n",
       "      <td>396320089</td>\n",
       "    </tr>\n",
       "    <tr>\n",
       "      <th>2955</th>\n",
       "      <td>2017</td>\n",
       "      <td>Tadhana</td>\n",
       "      <td>344667628</td>\n",
       "    </tr>\n",
       "    <tr>\n",
       "      <th>99824</th>\n",
       "      <td>2018</td>\n",
       "      <td>L</td>\n",
       "      <td>262864001</td>\n",
       "    </tr>\n",
       "    <tr>\n",
       "      <th>88527</th>\n",
       "      <td>2019</td>\n",
       "      <td>Rumah Ke Rumah</td>\n",
       "      <td>344592742</td>\n",
       "    </tr>\n",
       "    <tr>\n",
       "      <th>121098</th>\n",
       "      <td>2020</td>\n",
       "      <td>Bertaut</td>\n",
       "      <td>398924128</td>\n",
       "    </tr>\n",
       "    <tr>\n",
       "      <th>91783</th>\n",
       "      <td>2021</td>\n",
       "      <td>Pesan Terakhir</td>\n",
       "      <td>372555530</td>\n",
       "    </tr>\n",
       "    <tr>\n",
       "      <th>106430</th>\n",
       "      <td>2022</td>\n",
       "      <td>End of Beginning</td>\n",
       "      <td>1156127409</td>\n",
       "    </tr>\n",
       "    <tr>\n",
       "      <th>118708</th>\n",
       "      <td>2023</td>\n",
       "      <td>Here With Me</td>\n",
       "      <td>1199464188</td>\n",
       "    </tr>\n",
       "    <tr>\n",
       "      <th>37230</th>\n",
       "      <td>2024</td>\n",
       "      <td>Too Sweet</td>\n",
       "      <td>1111483820</td>\n",
       "    </tr>\n",
       "  </tbody>\n",
       "</table>\n",
       "</div>"
      ],
      "text/plain": [
       "        year                                         track_name  stream_total\n",
       "120790  2000  Bye Bye Bye - From Deadpool and Wolverine Soun...     863579127\n",
       "105564  2001                                        Randomantic      42946720\n",
       "27261   2004                                                 擱淺      87670858\n",
       "5842    2005                 Hanggang Kailan - Umuwi Ka Na Baby     184842472\n",
       "105890  2008                         The Man Who Can't Be Moved     785546159\n",
       "119009  2011                                         Seandainya     276873555\n",
       "2952    2012                                            Tadhana     344667628\n",
       "119276  2013                                 No. 1 Party Anthem     290160468\n",
       "28691   2014                                               Duka     396320089\n",
       "105358  2015                                   The Night We Met         10312\n",
       "28690   2016                                               Duka     396320089\n",
       "2955    2017                                            Tadhana     344667628\n",
       "99824   2018                                                  L     262864001\n",
       "88527   2019                                     Rumah Ke Rumah     344592742\n",
       "121098  2020                                            Bertaut     398924128\n",
       "91783   2021                                     Pesan Terakhir     372555530\n",
       "106430  2022                                   End of Beginning    1156127409\n",
       "118708  2023                                       Here With Me    1199464188\n",
       "37230   2024                                          Too Sweet    1111483820"
      ]
     },
     "execution_count": 40,
     "metadata": {},
     "output_type": "execute_result"
    }
   ],
   "source": [
    "# Bài hát được nghe nhiều nhất của từng năm \n",
    "top_song_per_year = df.loc[df.groupby('year')['stream_total'].idxmax()][['year', 'track_name', 'stream_total']]\n",
    "top_song_per_year"
   ]
  },
  {
   "cell_type": "code",
   "execution_count": 41,
   "metadata": {},
   "outputs": [
    {
     "data": {
      "text/html": [
       "<div>\n",
       "<style scoped>\n",
       "    .dataframe tbody tr th:only-of-type {\n",
       "        vertical-align: middle;\n",
       "    }\n",
       "\n",
       "    .dataframe tbody tr th {\n",
       "        vertical-align: top;\n",
       "    }\n",
       "\n",
       "    .dataframe thead th {\n",
       "        text-align: right;\n",
       "    }\n",
       "</style>\n",
       "<table border=\"1\" class=\"dataframe\">\n",
       "  <thead>\n",
       "    <tr style=\"text-align: right;\">\n",
       "      <th></th>\n",
       "      <th>year</th>\n",
       "      <th>track_name</th>\n",
       "      <th>stream_total</th>\n",
       "      <th>artist_genres</th>\n",
       "      <th>artist_name</th>\n",
       "    </tr>\n",
       "  </thead>\n",
       "  <tbody>\n",
       "    <tr>\n",
       "      <th>120790</th>\n",
       "      <td>2000</td>\n",
       "      <td>Bye Bye Bye - From Deadpool and Wolverine Soun...</td>\n",
       "      <td>863579127</td>\n",
       "      <td>['boy band', 'dance pop', 'pop']</td>\n",
       "      <td>*NSYNC</td>\n",
       "    </tr>\n",
       "    <tr>\n",
       "      <th>105564</th>\n",
       "      <td>2001</td>\n",
       "      <td>Randomantic</td>\n",
       "      <td>42946720</td>\n",
       "      <td>['deep neofolk', 'opm', 'pinoy r&amp;b']</td>\n",
       "      <td>James Reid</td>\n",
       "    </tr>\n",
       "    <tr>\n",
       "      <th>27261</th>\n",
       "      <td>2004</td>\n",
       "      <td>擱淺</td>\n",
       "      <td>87670858</td>\n",
       "      <td>['c-pop', 'mandopop', 'taiwan pop', 'zhongguo ...</td>\n",
       "      <td>Jay Chou</td>\n",
       "    </tr>\n",
       "    <tr>\n",
       "      <th>5842</th>\n",
       "      <td>2005</td>\n",
       "      <td>Hanggang Kailan - Umuwi Ka Na Baby</td>\n",
       "      <td>184842472</td>\n",
       "      <td>['opm']</td>\n",
       "      <td>Orange &amp; Lemons</td>\n",
       "    </tr>\n",
       "    <tr>\n",
       "      <th>105890</th>\n",
       "      <td>2008</td>\n",
       "      <td>The Man Who Can't Be Moved</td>\n",
       "      <td>785546159</td>\n",
       "      <td>['celtic rock', 'pop']</td>\n",
       "      <td>The Script</td>\n",
       "    </tr>\n",
       "    <tr>\n",
       "      <th>119009</th>\n",
       "      <td>2011</td>\n",
       "      <td>Seandainya</td>\n",
       "      <td>276873555</td>\n",
       "      <td>['indonesian pop']</td>\n",
       "      <td>Vierra</td>\n",
       "    </tr>\n",
       "    <tr>\n",
       "      <th>2952</th>\n",
       "      <td>2012</td>\n",
       "      <td>Tadhana</td>\n",
       "      <td>344667628</td>\n",
       "      <td>['opm']</td>\n",
       "      <td>Up Dharma Down</td>\n",
       "    </tr>\n",
       "    <tr>\n",
       "      <th>119276</th>\n",
       "      <td>2013</td>\n",
       "      <td>No. 1 Party Anthem</td>\n",
       "      <td>290160468</td>\n",
       "      <td>['garage rock', 'modern rock', 'permanent wave...</td>\n",
       "      <td>Arctic Monkeys</td>\n",
       "    </tr>\n",
       "    <tr>\n",
       "      <th>28691</th>\n",
       "      <td>2014</td>\n",
       "      <td>Duka</td>\n",
       "      <td>396320089</td>\n",
       "      <td>['indonesian pop punk', 'indonesian rock']</td>\n",
       "      <td>Last Child</td>\n",
       "    </tr>\n",
       "    <tr>\n",
       "      <th>105358</th>\n",
       "      <td>2015</td>\n",
       "      <td>The Night We Met</td>\n",
       "      <td>10312</td>\n",
       "      <td>['indie folk', 'stomp and holler']</td>\n",
       "      <td>Lord Huron</td>\n",
       "    </tr>\n",
       "    <tr>\n",
       "      <th>28690</th>\n",
       "      <td>2016</td>\n",
       "      <td>Duka</td>\n",
       "      <td>396320089</td>\n",
       "      <td>['indonesian pop punk', 'indonesian rock']</td>\n",
       "      <td>Last Child</td>\n",
       "    </tr>\n",
       "    <tr>\n",
       "      <th>2955</th>\n",
       "      <td>2017</td>\n",
       "      <td>Tadhana</td>\n",
       "      <td>344667628</td>\n",
       "      <td>['opm']</td>\n",
       "      <td>Up Dharma Down</td>\n",
       "    </tr>\n",
       "    <tr>\n",
       "      <th>99824</th>\n",
       "      <td>2018</td>\n",
       "      <td>L</td>\n",
       "      <td>262864001</td>\n",
       "      <td>['indonesian folk']</td>\n",
       "      <td>Hal</td>\n",
       "    </tr>\n",
       "    <tr>\n",
       "      <th>88527</th>\n",
       "      <td>2019</td>\n",
       "      <td>Rumah Ke Rumah</td>\n",
       "      <td>344592742</td>\n",
       "      <td>['indonesian pop']</td>\n",
       "      <td>Hindia</td>\n",
       "    </tr>\n",
       "    <tr>\n",
       "      <th>121098</th>\n",
       "      <td>2020</td>\n",
       "      <td>Bertaut</td>\n",
       "      <td>398924128</td>\n",
       "      <td>['indonesian pop']</td>\n",
       "      <td>Nadin Amizah</td>\n",
       "    </tr>\n",
       "    <tr>\n",
       "      <th>91783</th>\n",
       "      <td>2021</td>\n",
       "      <td>Pesan Terakhir</td>\n",
       "      <td>372555530</td>\n",
       "      <td>['indonesian pop']</td>\n",
       "      <td>Lyodra</td>\n",
       "    </tr>\n",
       "    <tr>\n",
       "      <th>106430</th>\n",
       "      <td>2022</td>\n",
       "      <td>End of Beginning</td>\n",
       "      <td>1156127409</td>\n",
       "      <td>['pov: indie', 'psychedelic pop']</td>\n",
       "      <td>Djo</td>\n",
       "    </tr>\n",
       "    <tr>\n",
       "      <th>118708</th>\n",
       "      <td>2023</td>\n",
       "      <td>Here With Me</td>\n",
       "      <td>1199464188</td>\n",
       "      <td>['bedroom pop', 'bedroom r&amp;b']</td>\n",
       "      <td>d4vd</td>\n",
       "    </tr>\n",
       "    <tr>\n",
       "      <th>37230</th>\n",
       "      <td>2024</td>\n",
       "      <td>Too Sweet</td>\n",
       "      <td>1111483820</td>\n",
       "      <td>['irish singer-songwriter', 'modern rock', 'po...</td>\n",
       "      <td>Hozier</td>\n",
       "    </tr>\n",
       "  </tbody>\n",
       "</table>\n",
       "</div>"
      ],
      "text/plain": [
       "        year                                         track_name  stream_total  \\\n",
       "120790  2000  Bye Bye Bye - From Deadpool and Wolverine Soun...     863579127   \n",
       "105564  2001                                        Randomantic      42946720   \n",
       "27261   2004                                                 擱淺      87670858   \n",
       "5842    2005                 Hanggang Kailan - Umuwi Ka Na Baby     184842472   \n",
       "105890  2008                         The Man Who Can't Be Moved     785546159   \n",
       "119009  2011                                         Seandainya     276873555   \n",
       "2952    2012                                            Tadhana     344667628   \n",
       "119276  2013                                 No. 1 Party Anthem     290160468   \n",
       "28691   2014                                               Duka     396320089   \n",
       "105358  2015                                   The Night We Met         10312   \n",
       "28690   2016                                               Duka     396320089   \n",
       "2955    2017                                            Tadhana     344667628   \n",
       "99824   2018                                                  L     262864001   \n",
       "88527   2019                                     Rumah Ke Rumah     344592742   \n",
       "121098  2020                                            Bertaut     398924128   \n",
       "91783   2021                                     Pesan Terakhir     372555530   \n",
       "106430  2022                                   End of Beginning    1156127409   \n",
       "118708  2023                                       Here With Me    1199464188   \n",
       "37230   2024                                          Too Sweet    1111483820   \n",
       "\n",
       "                                            artist_genres      artist_name  \n",
       "120790                   ['boy band', 'dance pop', 'pop']           *NSYNC  \n",
       "105564               ['deep neofolk', 'opm', 'pinoy r&b']       James Reid  \n",
       "27261   ['c-pop', 'mandopop', 'taiwan pop', 'zhongguo ...         Jay Chou  \n",
       "5842                                              ['opm']  Orange & Lemons  \n",
       "105890                             ['celtic rock', 'pop']       The Script  \n",
       "119009                                 ['indonesian pop']           Vierra  \n",
       "2952                                              ['opm']   Up Dharma Down  \n",
       "119276  ['garage rock', 'modern rock', 'permanent wave...   Arctic Monkeys  \n",
       "28691          ['indonesian pop punk', 'indonesian rock']       Last Child  \n",
       "105358                 ['indie folk', 'stomp and holler']       Lord Huron  \n",
       "28690          ['indonesian pop punk', 'indonesian rock']       Last Child  \n",
       "2955                                              ['opm']   Up Dharma Down  \n",
       "99824                                 ['indonesian folk']              Hal  \n",
       "88527                                  ['indonesian pop']           Hindia  \n",
       "121098                                 ['indonesian pop']     Nadin Amizah  \n",
       "91783                                  ['indonesian pop']           Lyodra  \n",
       "106430                  ['pov: indie', 'psychedelic pop']              Djo  \n",
       "118708                     ['bedroom pop', 'bedroom r&b']             d4vd  \n",
       "37230   ['irish singer-songwriter', 'modern rock', 'po...           Hozier  "
      ]
     },
     "execution_count": 41,
     "metadata": {},
     "output_type": "execute_result"
    }
   ],
   "source": [
    "# Những bài hát này thuộc thể loại nào và của nghệ sĩ nào\n",
    "top_song_per_year = df.loc[df.groupby('year')['stream_total'].idxmax()][['year', 'track_name', 'stream_total', 'artist_genres', 'artist_name']]\n",
    "top_song_per_year\n"
   ]
  },
  {
   "cell_type": "code",
   "execution_count": 42,
   "metadata": {},
   "outputs": [
    {
     "data": {
      "text/html": [
       "<div>\n",
       "<style scoped>\n",
       "    .dataframe tbody tr th:only-of-type {\n",
       "        vertical-align: middle;\n",
       "    }\n",
       "\n",
       "    .dataframe tbody tr th {\n",
       "        vertical-align: top;\n",
       "    }\n",
       "\n",
       "    .dataframe thead th {\n",
       "        text-align: right;\n",
       "    }\n",
       "</style>\n",
       "<table border=\"1\" class=\"dataframe\">\n",
       "  <thead>\n",
       "    <tr style=\"text-align: right;\">\n",
       "      <th></th>\n",
       "      <th>track_id</th>\n",
       "      <th>date</th>\n",
       "      <th>stream_daily</th>\n",
       "      <th>stream_total</th>\n",
       "      <th>artists_id</th>\n",
       "      <th>album_id</th>\n",
       "      <th>track_name</th>\n",
       "      <th>artist_name</th>\n",
       "      <th>artist_genres</th>\n",
       "      <th>artist_popularity</th>\n",
       "      <th>...</th>\n",
       "      <th>key</th>\n",
       "      <th>acousticness</th>\n",
       "      <th>valence</th>\n",
       "      <th>tempo</th>\n",
       "      <th>duration_ms</th>\n",
       "      <th>time_signature</th>\n",
       "      <th>year</th>\n",
       "      <th>month</th>\n",
       "      <th>day</th>\n",
       "      <th>day_name</th>\n",
       "    </tr>\n",
       "  </thead>\n",
       "  <tbody>\n",
       "    <tr>\n",
       "      <th>28713</th>\n",
       "      <td>0h7QMc9ZRzA9QJrbEHytn2</td>\n",
       "      <td>2024-11-02</td>\n",
       "      <td>660518</td>\n",
       "      <td>541913589</td>\n",
       "      <td>5vV3bFXnN6D6N3Nj4xRvaV</td>\n",
       "      <td>6nT2VfGN07ar1vdZyJY6ox</td>\n",
       "      <td>The Astronaut</td>\n",
       "      <td>Jin</td>\n",
       "      <td>['k-pop']</td>\n",
       "      <td>80</td>\n",
       "      <td>...</td>\n",
       "      <td>10</td>\n",
       "      <td>0.0351</td>\n",
       "      <td>0.736</td>\n",
       "      <td>148.887</td>\n",
       "      <td>181678</td>\n",
       "      <td>4</td>\n",
       "      <td>2024</td>\n",
       "      <td>10</td>\n",
       "      <td>25</td>\n",
       "      <td>Friday</td>\n",
       "    </tr>\n",
       "    <tr>\n",
       "      <th>28716</th>\n",
       "      <td>0h7QMc9ZRzA9QJrbEHytn2</td>\n",
       "      <td>2024-11-02</td>\n",
       "      <td>660518</td>\n",
       "      <td>541913589</td>\n",
       "      <td>5vV3bFXnN6D6N3Nj4xRvaV</td>\n",
       "      <td>6nT2VfGN07ar1vdZyJY6ox</td>\n",
       "      <td>The Astronaut</td>\n",
       "      <td>Jin</td>\n",
       "      <td>['k-pop']</td>\n",
       "      <td>80</td>\n",
       "      <td>...</td>\n",
       "      <td>10</td>\n",
       "      <td>0.0351</td>\n",
       "      <td>0.736</td>\n",
       "      <td>148.887</td>\n",
       "      <td>181678</td>\n",
       "      <td>4</td>\n",
       "      <td>2024</td>\n",
       "      <td>10</td>\n",
       "      <td>25</td>\n",
       "      <td>Friday</td>\n",
       "    </tr>\n",
       "    <tr>\n",
       "      <th>28719</th>\n",
       "      <td>0h7QMc9ZRzA9QJrbEHytn2</td>\n",
       "      <td>2024-11-02</td>\n",
       "      <td>660518</td>\n",
       "      <td>541913589</td>\n",
       "      <td>5vV3bFXnN6D6N3Nj4xRvaV</td>\n",
       "      <td>6nT2VfGN07ar1vdZyJY6ox</td>\n",
       "      <td>The Astronaut</td>\n",
       "      <td>Jin</td>\n",
       "      <td>['k-pop']</td>\n",
       "      <td>80</td>\n",
       "      <td>...</td>\n",
       "      <td>10</td>\n",
       "      <td>0.0351</td>\n",
       "      <td>0.736</td>\n",
       "      <td>148.887</td>\n",
       "      <td>181678</td>\n",
       "      <td>4</td>\n",
       "      <td>2024</td>\n",
       "      <td>10</td>\n",
       "      <td>25</td>\n",
       "      <td>Friday</td>\n",
       "    </tr>\n",
       "    <tr>\n",
       "      <th>28722</th>\n",
       "      <td>0h7QMc9ZRzA9QJrbEHytn2</td>\n",
       "      <td>2024-11-02</td>\n",
       "      <td>660518</td>\n",
       "      <td>541913589</td>\n",
       "      <td>5vV3bFXnN6D6N3Nj4xRvaV</td>\n",
       "      <td>6nT2VfGN07ar1vdZyJY6ox</td>\n",
       "      <td>The Astronaut</td>\n",
       "      <td>Jin</td>\n",
       "      <td>['k-pop']</td>\n",
       "      <td>80</td>\n",
       "      <td>...</td>\n",
       "      <td>10</td>\n",
       "      <td>0.0351</td>\n",
       "      <td>0.736</td>\n",
       "      <td>148.887</td>\n",
       "      <td>181678</td>\n",
       "      <td>4</td>\n",
       "      <td>2024</td>\n",
       "      <td>10</td>\n",
       "      <td>25</td>\n",
       "      <td>Friday</td>\n",
       "    </tr>\n",
       "    <tr>\n",
       "      <th>28725</th>\n",
       "      <td>0h7QMc9ZRzA9QJrbEHytn2</td>\n",
       "      <td>2024-11-02</td>\n",
       "      <td>660518</td>\n",
       "      <td>541913589</td>\n",
       "      <td>5vV3bFXnN6D6N3Nj4xRvaV</td>\n",
       "      <td>6nT2VfGN07ar1vdZyJY6ox</td>\n",
       "      <td>The Astronaut</td>\n",
       "      <td>Jin</td>\n",
       "      <td>['k-pop']</td>\n",
       "      <td>80</td>\n",
       "      <td>...</td>\n",
       "      <td>10</td>\n",
       "      <td>0.0351</td>\n",
       "      <td>0.736</td>\n",
       "      <td>148.887</td>\n",
       "      <td>181678</td>\n",
       "      <td>4</td>\n",
       "      <td>2024</td>\n",
       "      <td>10</td>\n",
       "      <td>25</td>\n",
       "      <td>Friday</td>\n",
       "    </tr>\n",
       "  </tbody>\n",
       "</table>\n",
       "<p>5 rows × 29 columns</p>\n",
       "</div>"
      ],
      "text/plain": [
       "                     track_id        date  stream_daily  stream_total  \\\n",
       "28713  0h7QMc9ZRzA9QJrbEHytn2  2024-11-02        660518     541913589   \n",
       "28716  0h7QMc9ZRzA9QJrbEHytn2  2024-11-02        660518     541913589   \n",
       "28719  0h7QMc9ZRzA9QJrbEHytn2  2024-11-02        660518     541913589   \n",
       "28722  0h7QMc9ZRzA9QJrbEHytn2  2024-11-02        660518     541913589   \n",
       "28725  0h7QMc9ZRzA9QJrbEHytn2  2024-11-02        660518     541913589   \n",
       "\n",
       "                   artists_id                album_id     track_name  \\\n",
       "28713  5vV3bFXnN6D6N3Nj4xRvaV  6nT2VfGN07ar1vdZyJY6ox  The Astronaut   \n",
       "28716  5vV3bFXnN6D6N3Nj4xRvaV  6nT2VfGN07ar1vdZyJY6ox  The Astronaut   \n",
       "28719  5vV3bFXnN6D6N3Nj4xRvaV  6nT2VfGN07ar1vdZyJY6ox  The Astronaut   \n",
       "28722  5vV3bFXnN6D6N3Nj4xRvaV  6nT2VfGN07ar1vdZyJY6ox  The Astronaut   \n",
       "28725  5vV3bFXnN6D6N3Nj4xRvaV  6nT2VfGN07ar1vdZyJY6ox  The Astronaut   \n",
       "\n",
       "      artist_name artist_genres  artist_popularity  ...  key acousticness  \\\n",
       "28713         Jin     ['k-pop']                 80  ...   10       0.0351   \n",
       "28716         Jin     ['k-pop']                 80  ...   10       0.0351   \n",
       "28719         Jin     ['k-pop']                 80  ...   10       0.0351   \n",
       "28722         Jin     ['k-pop']                 80  ...   10       0.0351   \n",
       "28725         Jin     ['k-pop']                 80  ...   10       0.0351   \n",
       "\n",
       "      valence    tempo  duration_ms  time_signature  year month  day  day_name  \n",
       "28713   0.736  148.887       181678               4  2024    10   25    Friday  \n",
       "28716   0.736  148.887       181678               4  2024    10   25    Friday  \n",
       "28719   0.736  148.887       181678               4  2024    10   25    Friday  \n",
       "28722   0.736  148.887       181678               4  2024    10   25    Friday  \n",
       "28725   0.736  148.887       181678               4  2024    10   25    Friday  \n",
       "\n",
       "[5 rows x 29 columns]"
      ]
     },
     "execution_count": 42,
     "metadata": {},
     "output_type": "execute_result"
    }
   ],
   "source": [
    "df_vn = df[df['country'] == 'Vietnam']\n",
    "df_vn.head()"
   ]
  },
  {
   "cell_type": "markdown",
   "metadata": {},
   "source": [
    "### Việt Nam"
   ]
  },
  {
   "cell_type": "code",
   "execution_count": 43,
   "metadata": {},
   "outputs": [
    {
     "data": {
      "text/plain": [
       "(7745, 29)"
      ]
     },
     "execution_count": 43,
     "metadata": {},
     "output_type": "execute_result"
    }
   ],
   "source": [
    "df_vn.shape"
   ]
  },
  {
   "cell_type": "markdown",
   "metadata": {},
   "source": [
    "#### Bài hát được nghe nhiều nhất ở Việt Nam "
   ]
  },
  {
   "cell_type": "code",
   "execution_count": 44,
   "metadata": {},
   "outputs": [
    {
     "name": "stdout",
     "output_type": "stream",
     "text": [
      "track_name             Who\n",
      "stream_total    1041620297\n",
      "Name: 95255, dtype: object\n"
     ]
    }
   ],
   "source": [
    "max_stream_song_vn = df_vn.loc[df_vn['stream_total'].idxmax()]\n",
    "print(max_stream_song_vn[['track_name', 'stream_total']])"
   ]
  },
  {
   "cell_type": "markdown",
   "metadata": {},
   "source": [
    "#### Thông tin về bài hát được nghe nhiều nhất ở Việt Nam"
   ]
  },
  {
   "cell_type": "code",
   "execution_count": 45,
   "metadata": {},
   "outputs": [
    {
     "data": {
      "text/plain": [
       "track_id                                         7tI8dRuH2Yc6RuoTjxo4dU\n",
       "date                                                         2024-11-19\n",
       "stream_daily                                                    6385318\n",
       "stream_total                                                 1041620297\n",
       "artists_id                                       1oSPZhvZMIrWW5I41kPkkY\n",
       "album_id                                         15XcLhiVMlSOipUddTNDnr\n",
       "track_name                                                          Who\n",
       "artist_name                                                       Jimin\n",
       "artist_genres                                                 ['k-pop']\n",
       "artist_popularity                                                    88\n",
       "artist_follower                                                 9770858\n",
       "artist_image_url      https://i.scdn.co/image/ab6761610000e5ebcb0829...\n",
       "track_release_date                                  2024-07-19 00:00:00\n",
       "track_date_added                                   2024-11-04T12:32:27Z\n",
       "track_duration_ms                                                170887\n",
       "track_popularity                                                     92\n",
       "track_position                                                        2\n",
       "country                                                         Vietnam\n",
       "energy                                                            0.756\n",
       "key                                                                   0\n",
       "acousticness                                                    0.00289\n",
       "valence                                                           0.838\n",
       "tempo                                                           116.034\n",
       "duration_ms                                                      170888\n",
       "time_signature                                                        4\n",
       "year                                                               2024\n",
       "month                                                                 7\n",
       "day                                                                  19\n",
       "day_name                                                         Friday\n",
       "Name: 95255, dtype: object"
      ]
     },
     "execution_count": 45,
     "metadata": {},
     "output_type": "execute_result"
    }
   ],
   "source": [
    "# Thông tin về bài hát được nghe nhiều nhất ở Việt Nam\n",
    "max_stream_song_vn"
   ]
  },
  {
   "cell_type": "markdown",
   "metadata": {},
   "source": [
    "#### Bài hát có stream lớn nhất theo ngày "
   ]
  },
  {
   "cell_type": "code",
   "execution_count": 46,
   "metadata": {},
   "outputs": [
    {
     "data": {
      "text/html": [
       "<div>\n",
       "<style scoped>\n",
       "    .dataframe tbody tr th:only-of-type {\n",
       "        vertical-align: middle;\n",
       "    }\n",
       "\n",
       "    .dataframe tbody tr th {\n",
       "        vertical-align: top;\n",
       "    }\n",
       "\n",
       "    .dataframe thead th {\n",
       "        text-align: right;\n",
       "    }\n",
       "</style>\n",
       "<table border=\"1\" class=\"dataframe\">\n",
       "  <thead>\n",
       "    <tr style=\"text-align: right;\">\n",
       "      <th></th>\n",
       "      <th>track_release_date</th>\n",
       "      <th>track_name</th>\n",
       "      <th>stream_total</th>\n",
       "      <th>artist_name</th>\n",
       "    </tr>\n",
       "  </thead>\n",
       "  <tbody>\n",
       "    <tr>\n",
       "      <th>39199</th>\n",
       "      <td>2021-07-09</td>\n",
       "      <td>Không Thể Say</td>\n",
       "      <td>33137058</td>\n",
       "      <td>HIEUTHUHAI</td>\n",
       "    </tr>\n",
       "    <tr>\n",
       "      <th>125635</th>\n",
       "      <td>2022-06-24</td>\n",
       "      <td>Miên Man</td>\n",
       "      <td>25923775</td>\n",
       "      <td>Minh Huy</td>\n",
       "    </tr>\n",
       "    <tr>\n",
       "      <th>70363</th>\n",
       "      <td>2023-06-27</td>\n",
       "      <td>Love is</td>\n",
       "      <td>2277835</td>\n",
       "      <td>Dangrangto</td>\n",
       "    </tr>\n",
       "    <tr>\n",
       "      <th>68146</th>\n",
       "      <td>2023-07-31</td>\n",
       "      <td>id 072019</td>\n",
       "      <td>30247172</td>\n",
       "      <td>W/N</td>\n",
       "    </tr>\n",
       "    <tr>\n",
       "      <th>83089</th>\n",
       "      <td>2023-08-11</td>\n",
       "      <td>Love Me Again</td>\n",
       "      <td>955963196</td>\n",
       "      <td>V</td>\n",
       "    </tr>\n",
       "    <tr>\n",
       "      <th>39197</th>\n",
       "      <td>2023-10-16</td>\n",
       "      <td>Không Thể Say</td>\n",
       "      <td>33137058</td>\n",
       "      <td>HIEUTHUHAI</td>\n",
       "    </tr>\n",
       "    <tr>\n",
       "      <th>118692</th>\n",
       "      <td>2023-10-18</td>\n",
       "      <td>Simp Gái 808</td>\n",
       "      <td>25500558</td>\n",
       "      <td>Low G</td>\n",
       "    </tr>\n",
       "    <tr>\n",
       "      <th>80264</th>\n",
       "      <td>2023-11-03</td>\n",
       "      <td>Standing Next to You</td>\n",
       "      <td>1028448661</td>\n",
       "      <td>Jung Kook</td>\n",
       "    </tr>\n",
       "    <tr>\n",
       "      <th>89395</th>\n",
       "      <td>2023-12-12</td>\n",
       "      <td>nhắn nhủ</td>\n",
       "      <td>18561059</td>\n",
       "      <td>Ronboogz</td>\n",
       "    </tr>\n",
       "    <tr>\n",
       "      <th>89440</th>\n",
       "      <td>2024-03-01</td>\n",
       "      <td>Từng Là</td>\n",
       "      <td>22195833</td>\n",
       "      <td>Vũ Cát Tường</td>\n",
       "    </tr>\n",
       "    <tr>\n",
       "      <th>89861</th>\n",
       "      <td>2024-06-08</td>\n",
       "      <td>Đừng Làm Trái Tim Anh Đau</td>\n",
       "      <td>30868794</td>\n",
       "      <td>Sơn Tùng M-TP</td>\n",
       "    </tr>\n",
       "    <tr>\n",
       "      <th>95255</th>\n",
       "      <td>2024-07-19</td>\n",
       "      <td>Who</td>\n",
       "      <td>1041620297</td>\n",
       "      <td>Jimin</td>\n",
       "    </tr>\n",
       "    <tr>\n",
       "      <th>125074</th>\n",
       "      <td>2024-09-04</td>\n",
       "      <td>Mình Anh Thôi</td>\n",
       "      <td>4883051</td>\n",
       "      <td>Negav</td>\n",
       "    </tr>\n",
       "    <tr>\n",
       "      <th>110372</th>\n",
       "      <td>2024-10-03</td>\n",
       "      <td>Rockstar</td>\n",
       "      <td>300692775</td>\n",
       "      <td>LISA</td>\n",
       "    </tr>\n",
       "    <tr>\n",
       "      <th>78634</th>\n",
       "      <td>2024-10-10</td>\n",
       "      <td>Mantra</td>\n",
       "      <td>136029483</td>\n",
       "      <td>JENNIE</td>\n",
       "    </tr>\n",
       "    <tr>\n",
       "      <th>104253</th>\n",
       "      <td>2024-10-21</td>\n",
       "      <td>Whiplash</td>\n",
       "      <td>62578879</td>\n",
       "      <td>aespa</td>\n",
       "    </tr>\n",
       "    <tr>\n",
       "      <th>111093</th>\n",
       "      <td>2024-10-22</td>\n",
       "      <td>Chăm Hoa</td>\n",
       "      <td>2857740</td>\n",
       "      <td>MONO</td>\n",
       "    </tr>\n",
       "    <tr>\n",
       "      <th>29622</th>\n",
       "      <td>2024-10-25</td>\n",
       "      <td>The Astronaut</td>\n",
       "      <td>547656617</td>\n",
       "      <td>Jin</td>\n",
       "    </tr>\n",
       "    <tr>\n",
       "      <th>29667</th>\n",
       "      <td>2024-11-15</td>\n",
       "      <td>The Astronaut</td>\n",
       "      <td>547656617</td>\n",
       "      <td>Jin</td>\n",
       "    </tr>\n",
       "    <tr>\n",
       "      <th>29712</th>\n",
       "      <td>2024-11-19</td>\n",
       "      <td>The Astronaut</td>\n",
       "      <td>547656617</td>\n",
       "      <td>Jin</td>\n",
       "    </tr>\n",
       "  </tbody>\n",
       "</table>\n",
       "</div>"
      ],
      "text/plain": [
       "       track_release_date                 track_name  stream_total  \\\n",
       "39199          2021-07-09              Không Thể Say      33137058   \n",
       "125635         2022-06-24                   Miên Man      25923775   \n",
       "70363          2023-06-27                    Love is       2277835   \n",
       "68146          2023-07-31                  id 072019      30247172   \n",
       "83089          2023-08-11              Love Me Again     955963196   \n",
       "39197          2023-10-16              Không Thể Say      33137058   \n",
       "118692         2023-10-18               Simp Gái 808      25500558   \n",
       "80264          2023-11-03       Standing Next to You    1028448661   \n",
       "89395          2023-12-12                   nhắn nhủ      18561059   \n",
       "89440          2024-03-01                    Từng Là      22195833   \n",
       "89861          2024-06-08  Đừng Làm Trái Tim Anh Đau      30868794   \n",
       "95255          2024-07-19                        Who    1041620297   \n",
       "125074         2024-09-04              Mình Anh Thôi       4883051   \n",
       "110372         2024-10-03                   Rockstar     300692775   \n",
       "78634          2024-10-10                     Mantra     136029483   \n",
       "104253         2024-10-21                   Whiplash      62578879   \n",
       "111093         2024-10-22                   Chăm Hoa       2857740   \n",
       "29622          2024-10-25              The Astronaut     547656617   \n",
       "29667          2024-11-15              The Astronaut     547656617   \n",
       "29712          2024-11-19              The Astronaut     547656617   \n",
       "\n",
       "          artist_name  \n",
       "39199      HIEUTHUHAI  \n",
       "125635       Minh Huy  \n",
       "70363      Dangrangto  \n",
       "68146             W/N  \n",
       "83089               V  \n",
       "39197      HIEUTHUHAI  \n",
       "118692          Low G  \n",
       "80264       Jung Kook  \n",
       "89395        Ronboogz  \n",
       "89440    Vũ Cát Tường  \n",
       "89861   Sơn Tùng M-TP  \n",
       "95255           Jimin  \n",
       "125074          Negav  \n",
       "110372           LISA  \n",
       "78634          JENNIE  \n",
       "104253          aespa  \n",
       "111093           MONO  \n",
       "29622             Jin  \n",
       "29667             Jin  \n",
       "29712             Jin  "
      ]
     },
     "execution_count": 46,
     "metadata": {},
     "output_type": "execute_result"
    }
   ],
   "source": [
    "# nhóm theo track_release_date và tìm bài hát có lượt nghe cao nhất cho mỗi ngày\n",
    "max_stream_per_day = df_vn.loc[df_vn.groupby('track_release_date')['stream_total'].idxmax()]\n",
    "\n",
    "# Hiển thị kết quả\n",
    "max_stream_per_day[['track_release_date', 'track_name', 'stream_total', 'artist_name']].sort_values(by='track_release_date')"
   ]
  },
  {
   "cell_type": "code",
   "execution_count": 47,
   "metadata": {},
   "outputs": [
    {
     "data": {
      "text/plain": [
       "20"
      ]
     },
     "execution_count": 47,
     "metadata": {},
     "output_type": "execute_result"
    }
   ],
   "source": [
    "df_vn['track_release_date'].nunique()"
   ]
  },
  {
   "cell_type": "code",
   "execution_count": 48,
   "metadata": {},
   "outputs": [
    {
     "data": {
      "text/plain": [
       "146"
      ]
     },
     "execution_count": 48,
     "metadata": {},
     "output_type": "execute_result"
    }
   ],
   "source": [
    "df['track_release_date'].nunique()"
   ]
  },
  {
   "cell_type": "markdown",
   "metadata": {},
   "source": [
    "Có 2 vấn đề: \n",
    "- Data theo Việt Nam chỉ có 20 ngày trong 3 năm\n",
    "- Data tổng có 146 ngày "
   ]
  },
  {
   "cell_type": "markdown",
   "metadata": {},
   "source": [
    "#### Danh sách nghệ sỹ có từ 2 bài hát đạt top"
   ]
  },
  {
   "cell_type": "code",
   "execution_count": 49,
   "metadata": {},
   "outputs": [
    {
     "data": {
      "text/plain": [
       "artist_name\n",
       "Jin           6\n",
       "HIEUTHUHAI    3\n",
       "V             3\n",
       "Jimin         2\n",
       "LISA          2\n",
       "aespa         2\n",
       "Name: track_name, dtype: int64"
      ]
     },
     "execution_count": 49,
     "metadata": {},
     "output_type": "execute_result"
    }
   ],
   "source": [
    "# Nhóm theo artist_name và đếm số bài hát cho mỗi nghệ sĩ\n",
    "artist_song_count_vn = df_vn.groupby('artist_name')['track_name'].nunique()\n",
    "\n",
    "# Filter những nghệ sĩ có ít nhất 2 bài hát trong bảng xếp hạng\n",
    "top_artists_vn = artist_song_count_vn[artist_song_count_vn >= 2].sort_values(ascending=False).head(10)\n",
    "top_artists_vn"
   ]
  },
  {
   "cell_type": "markdown",
   "metadata": {},
   "source": [
    "Hầu hết là các nghệ sỹ nổi tiếng của Hàn Quốc thể loại nhạc đặc trưng là Kpop. Chỉ có 1 nghệ sỹ Việt Nam là HieuThuHai có 3 bài lọt top trong data được thu thập ở Việt Nam."
   ]
  },
  {
   "cell_type": "markdown",
   "metadata": {},
   "source": [
    "#### Lọt top 5 bao nhiêu ngày\n"
   ]
  },
  {
   "cell_type": "code",
   "execution_count": 50,
   "metadata": {},
   "outputs": [
    {
     "data": {
      "text/html": [
       "<div>\n",
       "<style scoped>\n",
       "    .dataframe tbody tr th:only-of-type {\n",
       "        vertical-align: middle;\n",
       "    }\n",
       "\n",
       "    .dataframe tbody tr th {\n",
       "        vertical-align: top;\n",
       "    }\n",
       "\n",
       "    .dataframe thead th {\n",
       "        text-align: right;\n",
       "    }\n",
       "</style>\n",
       "<table border=\"1\" class=\"dataframe\">\n",
       "  <thead>\n",
       "    <tr style=\"text-align: right;\">\n",
       "      <th></th>\n",
       "      <th>track_name</th>\n",
       "      <th>days_in_top_5</th>\n",
       "    </tr>\n",
       "  </thead>\n",
       "  <tbody>\n",
       "    <tr>\n",
       "      <th>1</th>\n",
       "      <td>Be Mine</td>\n",
       "      <td>22</td>\n",
       "    </tr>\n",
       "    <tr>\n",
       "      <th>6</th>\n",
       "      <td>Standing Next to You</td>\n",
       "      <td>22</td>\n",
       "    </tr>\n",
       "    <tr>\n",
       "      <th>8</th>\n",
       "      <td>Who</td>\n",
       "      <td>22</td>\n",
       "    </tr>\n",
       "    <tr>\n",
       "      <th>4</th>\n",
       "      <td>I'll Be There</td>\n",
       "      <td>21</td>\n",
       "    </tr>\n",
       "    <tr>\n",
       "      <th>7</th>\n",
       "      <td>The Astronaut</td>\n",
       "      <td>10</td>\n",
       "    </tr>\n",
       "    <tr>\n",
       "      <th>5</th>\n",
       "      <td>Running Wild</td>\n",
       "      <td>5</td>\n",
       "    </tr>\n",
       "    <tr>\n",
       "      <th>0</th>\n",
       "      <td>Another Level</td>\n",
       "      <td>4</td>\n",
       "    </tr>\n",
       "    <tr>\n",
       "      <th>2</th>\n",
       "      <td>Falling</td>\n",
       "      <td>4</td>\n",
       "    </tr>\n",
       "    <tr>\n",
       "      <th>3</th>\n",
       "      <td>I will come to you</td>\n",
       "      <td>4</td>\n",
       "    </tr>\n",
       "  </tbody>\n",
       "</table>\n",
       "</div>"
      ],
      "text/plain": [
       "             track_name  days_in_top_5\n",
       "1               Be Mine             22\n",
       "6  Standing Next to You             22\n",
       "8                   Who             22\n",
       "4         I'll Be There             21\n",
       "7         The Astronaut             10\n",
       "5          Running Wild              5\n",
       "0         Another Level              4\n",
       "2               Falling              4\n",
       "3    I will come to you              4"
      ]
     },
     "execution_count": 50,
     "metadata": {},
     "output_type": "execute_result"
    }
   ],
   "source": [
    "# Lọc dữ liệu các bài hát lọt top 5 ở Việt Nam\n",
    "top_5_vn = df_vn[df_vn['track_position'] <= 5]\n",
    "\n",
    "# Đếm số ngày mỗi bài hát lọt top 5\n",
    "top_5_vn_days = top_5_vn.groupby('track_name')['date'].nunique().reset_index(name='days_in_top_5')\n",
    "\n",
    "# Hiển thị kết quả\n",
    "top_5_vn_days.sort_values(by='days_in_top_5', ascending=False)"
   ]
  },
  {
   "cell_type": "markdown",
   "metadata": {},
   "source": [
    "#### Thời lượng trung bình của các bài hát lọt top"
   ]
  },
  {
   "cell_type": "code",
   "execution_count": 51,
   "metadata": {},
   "outputs": [
    {
     "data": {
      "image/png": "[encoded data removed]",
      "text/plain": [
       "<Figure size 1400x600 with 1 Axes>"
      ]
     },
     "metadata": {},
     "output_type": "display_data"
    }
   ],
   "source": [
    "# thời luợng của top 10 bài hát được nghe nhiều nhất df_vn\n",
    "top_10_songs = top_10.index\n",
    "top_10_duration = df_vn[df_vn['track_name'].isin(top_10_songs)].groupby('track_name')['track_duration_ms'].max()\n",
    "\n",
    "plt.figure(figsize=(14, 6))\n",
    "top_10_duration.plot(kind='bar')\n",
    "plt.title('Top 10 tracks duration')\n",
    "plt.ylabel('Duration (ms)')\n",
    "plt.grid()\n",
    "plt.show()"
   ]
  },
  {
   "cell_type": "markdown",
   "metadata": {},
   "source": [
    "# `Tạm thời để đây đi cập nhật data mà không push lên git đâu có để ý tốn công quá`"
   ]
  },
  {
   "cell_type": "code",
   "execution_count": null,
   "metadata": {},
   "outputs": [],
   "source": []
  }
 ],
 "metadata": {
  "kernelspec": {
   "display_name": "Python 3",
   "language": "python",
   "name": "python3"
  },
  "language_info": {
   "codemirror_mode": {
    "name": "ipython",
    "version": 3
   },
   "file_extension": ".py",
   "mimetype": "text/x-python",
   "name": "python",
   "nbconvert_exporter": "python",
   "pygments_lexer": "ipython3",
   "version": "3.11.9"
  }
 },
 "nbformat": 4,
 "nbformat_minor": 2
}
